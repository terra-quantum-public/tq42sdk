{
 "cells": [
  {
   "cell_type": "markdown",
   "id": "35833d20",
   "metadata": {},
   "source": [
    "![](../images/TQ42_Logo_Black_Teal.svg)\n",
    "\n",
    "\n",
    "# Welcome to TQ42!\n",
    "\n",
    "\n",
    "## Begin by creating a client and selecting org, proj and exp"
   ]
  },
  {
   "cell_type": "code",
   "execution_count": null,
   "id": "b3f3436a",
   "metadata": {},
   "outputs": [],
   "source": [
    "from tq42.client import TQ42Client\n",
    "from tq42.organization import list_all as list_all_organizations\n",
    "from tq42.project import list_all as list_all_projects\n",
    "from tq42.experiment import list_all as list_all_experiments\n",
    "from tq42.experiment_run import ExperimentRun\n",
    "from tq42.compute import HardwareProto\n",
    "from tq42.algorithm import AlgorithmProto"
   ]
  },
  {
   "cell_type": "code",
   "execution_count": 2,
   "id": "c87c20d3",
   "metadata": {},
   "outputs": [],
   "source": [
    "with TQ42Client() as client: \n",
    "    org_list = list_all_organizations(client=client)\n",
    "    org_sample = org_list[0]\n",
    "\n",
    "    proj_list = list_all_projects(client=client, organization_id=org_sample.id)\n",
    "    proj_sample = proj_list[0]\n",
    "\n",
    "    exp_list = list_all_experiments(client=client, project_id=proj_sample.id)\n",
    "    exp_sample = exp_list[-1]"
   ]
  },
  {
   "cell_type": "markdown",
   "id": "24a04fed",
   "metadata": {},
   "source": [
    "## Run a TetraOpt experiment\n",
    "\n",
    "This example uses the TetraOpt experiment type to perform an optimization. Here the objective is to find the optimal route for the traveling sales problem with ten cities."
   ]
  },
  {
   "cell_type": "code",
   "execution_count": null,
   "id": "ab114f0abca6b084",
   "metadata": {
    "collapsed": false,
    "jupyter": {
     "outputs_hidden": false
    }
   },
   "outputs": [],
   "source": [
    "    print(f\"Running experiment within: Org {org_sample.id}, Proj {proj_sample.id} and Exp {exp_sample.id}`\")"
   ]
  },
  {
   "cell_type": "code",
   "execution_count": null,
   "id": "0611ddd6",
   "metadata": {},
   "outputs": [],
   "source": [
    "    parameters = {\n",
    "        \"parameters\": {\n",
    "            'dimensionality': 10,\n",
    "            'iteration_number': 4, \n",
    "            'maximal_rank': 4, \n",
    "            'points_number': 1, \n",
    "            'quantization': False,\n",
    "            'tolerance':0.0010000000474974513, \n",
    "            'lower_limits': [0,0,0,0,0,0,0,0,0,0], \n",
    "            'upper_limits': [9,9,9,9,9,9,9,9,9,9], \n",
    "            'grid': [10,10,10,10,10,10,10,10,10,10],\n",
    "            'objective_function':'http://34.32.169.11:8000/test_func_eval/Ackley/',\n",
    "            'polling':{\n",
    "                'initial_delay':1.0,\n",
    "                'retries': 100,\n",
    "                'delay':1.0,\n",
    "                'backoff_factor':1.1\n",
    "            },\n",
    "             #optional arguments below\n",
    "    #          'start_points':[2,3,4,5,6,7],\n",
    "    #          'precision':'float64',\n",
    "    #          'point':'float64',\n",
    "    #          'device':'CPU',\n",
    "    #          'seed':2\n",
    "        },\n",
    "        \"inputs\": {}\n",
    "    }\n",
    "    run = ExperimentRun.create(\n",
    "        client=client,\n",
    "        algorithm=AlgorithmProto.TETRA_OPT, \n",
    "        experiment_id=exp_sample.id,\n",
    "        compute=HardwareProto.SMALL, \n",
    "        parameters=parameters\n",
    "    )\n",
    "\n",
    "    print(run.data)"
   ]
  },
  {
   "cell_type": "markdown",
   "id": "2761511e",
   "metadata": {},
   "source": [
    "## Poll the experiment run, and return results when finished"
   ]
  },
  {
   "cell_type": "code",
   "execution_count": null,
   "id": "3dd79434-01c3-4181-8a48-a5fb02516fe6",
   "metadata": {},
   "outputs": [],
   "source": [
    "    result = run.poll()\n",
    "    print(result)"
   ]
  },
  {
   "cell_type": "code",
   "execution_count": null,
   "id": "b9e176a3-9366-40b8-b6a1-4270cfe5fd0c",
   "metadata": {},
   "outputs": [],
   "source": [
    "    result.data"
   ]
  }
 ],
 "metadata": {
  "kernelspec": {
   "display_name": "Python 3 (ipykernel)",
   "language": "python",
   "name": "python3"
  },
  "language_info": {
   "codemirror_mode": {
    "name": "ipython",
    "version": 3
   },
   "file_extension": ".py",
   "mimetype": "text/x-python",
   "name": "python",
   "nbconvert_exporter": "python",
   "pygments_lexer": "ipython3",
   "version": "3.10.13"
  },
  "vscode": {
   "interpreter": {
    "hash": "2b948f73c602804da10ac5ef2ce43914090a4d8e5675991f378fa84d87ab2597"
   }
  }
 },
 "nbformat": 4,
 "nbformat_minor": 5
}
