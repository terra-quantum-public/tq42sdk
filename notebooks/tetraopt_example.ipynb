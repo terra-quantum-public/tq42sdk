{
 "cells": [
  {
   "cell_type": "markdown",
   "id": "35833d20",
   "metadata": {},
   "source": [
    "![](../images/TQ42_Logo_Black_Teal.svg)\n",
    "\n",
    "\n",
    "# Welcome to TQ42!\n",
    "\n",
    "\n",
    "## Begin by creating a client and selecting org, proj and exp"
   ]
  },
  {
   "cell_type": "code",
   "execution_count": 24,
   "id": "b3f3436a",
   "metadata": {
    "ExecuteTime": {
     "end_time": "2024-01-11T12:24:37.643606Z",
     "start_time": "2024-01-11T12:24:37.641004Z"
    }
   },
   "outputs": [],
   "source": [
    "from tq42.client import TQ42Client\n",
    "from tq42.organization import list_all as list_all_organizations\n",
    "from tq42.project import list_all as list_all_projects\n",
    "from tq42.experiment import list_all as list_all_experiments\n",
    "from tq42.experiment_run import ExperimentRun\n",
    "from tq42.compute import HardwareProto\n",
    "from tq42.algorithm import AlgorithmProto"
   ]
  },
  {
   "cell_type": "code",
   "execution_count": 25,
   "id": "c87c20d3",
   "metadata": {
    "ExecuteTime": {
     "end_time": "2024-01-11T12:24:39.583891Z",
     "start_time": "2024-01-11T12:24:37.647460Z"
    }
   },
   "outputs": [
    {
     "name": "stdout",
     "output_type": "stream",
     "text": [
      "<tq42.organization.Organization object at 0x12a72a760>\n",
      "\n",
      "<tq42.project.Project object at 0x12a72a6d0>\n",
      "\n",
      "<tq42.experiment.Experiment object at 0x12a4b97c0>\n"
     ]
    }
   ],
   "source": [
    "with TQ42Client() as client: \n",
    "    org_list = list_all_organizations(client=client)\n",
    "    org_sample = org_list[0]\n",
    "\n",
    "    proj_list = list_all_projects(client=client, organization_id=org_sample.id)\n",
    "    proj_sample = proj_list[0]\n",
    "\n",
    "    exp_list = list_all_experiments(client=client, project_id=proj_sample.id)\n",
    "    exp_sample = exp_list[-1]\n",
    "\n",
    "    print(org_sample)\n",
    "    print()\n",
    "    print(proj_sample)\n",
    "    print()\n",
    "    print(exp_sample)"
   ]
  },
  {
   "cell_type": "markdown",
   "id": "24a04fed",
   "metadata": {},
   "source": [
    "## Run a TetraOpt experiment\n",
    "\n",
    "This example uses the TetraOpt experiment type to perform an optimization. Here the objective is to find the optimal route for the traveling sales problem with ten cities."
   ]
  },
  {
   "cell_type": "code",
   "execution_count": 26,
   "id": "0611ddd6",
   "metadata": {
    "ExecuteTime": {
     "end_time": "2024-01-11T12:24:40.031324Z",
     "start_time": "2024-01-11T12:24:39.588676Z"
    }
   },
   "outputs": [
    {
     "name": "stdout",
     "output_type": "stream",
     "text": [
      "id: \"6a2f3807-5098-487c-825b-481005fe1a19\"\n",
      "experiment_id: \"796e95e6-a6bc-4880-92f9-13755a0772cd\"\n",
      "sequential_id: 43\n",
      "status: QUEUED\n",
      "algorithm: TETRA_OPT\n",
      "hardware: SMALL\n",
      "metadata: \"{\\\"parameters\\\":{\\\"dimensionality\\\":10,\\\"maximal_rank\\\":4,\\\"iteration_number\\\":4,\\\"quantization\\\":false,\\\"points_number\\\":1,\\\"tolerance\\\":0.001,\\\"lower_limits\\\":[0.0,0.0,0.0,0.0,0.0,0.0,0.0,0.0,0.0,0.0],\\\"upper_limits\\\":[9.0,9.0,9.0,9.0,9.0,9.0,9.0,9.0,9.0,9.0],\\\"grid\\\":[10,10,10,10,10,10,10,10,10,10],\\\"objective_function\\\":\\\"http://34.32.169.11:8000/test_func_eval/Ackley/\\\",\\\"start_points\\\":[],\\\"precision\\\":null,\\\"point\\\":null,\\\"seed\\\":0,\\\"device\\\":null}}\"\n",
      "result {\n",
      "}\n",
      "created_by: \"3011b225-73a6-470c-b2e1-6f3c3e358149\"\n",
      "created_at {\n",
      "  seconds: 1704975880\n",
      "  nanos: 26140284\n",
      "}\n"
     ]
    }
   ],
   "source": [
    "parameters = {\n",
    "    \"parameters\": {\n",
    "        'dimensionality': 10,\n",
    "        'iteration_number': 4, \n",
    "        'maximal_rank': 4, \n",
    "        'points_number': 1, \n",
    "        'quantization': False,\n",
    "        'tolerance':0.0010000000474974513, \n",
    "        'lower_limits': [0,0,0,0,0,0,0,0,0,0], \n",
    "        'upper_limits': [9,9,9,9,9,9,9,9,9,9], \n",
    "        'grid': [10,10,10,10,10,10,10,10,10,10],\n",
    "        'objective_function':'http://34.32.169.11:8000/test_func_eval/Ackley/'\n",
    "         #optional arguments below\n",
    "#          'start_points':[2,3,4,5,6,7],\n",
    "#          'precision':'float64',\n",
    "#          'point':'float64',\n",
    "#          'device':'CPU',\n",
    "#          'seed':2\n",
    "    },\n",
    "    \"inputs\": {}\n",
    "}\n",
    "run = ExperimentRun.create(\n",
    "    client=client,\n",
    "    algorithm=AlgorithmProto.TETRA_OPT, \n",
    "    experiment_id=exp_sample.id,\n",
    "    compute=HardwareProto.SMALL, \n",
    "    parameters=parameters\n",
    ")\n",
    "\n",
    "print(run.data)"
   ]
  },
  {
   "cell_type": "markdown",
   "id": "2761511e",
   "metadata": {},
   "source": [
    "## Poll the experiment run, and return results when finished"
   ]
  },
  {
   "cell_type": "code",
   "execution_count": 27,
   "id": "235e707b",
   "metadata": {
    "scrolled": false,
    "ExecuteTime": {
     "end_time": "2024-01-11T12:24:41.436354Z",
     "start_time": "2024-01-11T12:24:40.029855Z"
    }
   },
   "outputs": [
    {
     "ename": "PermissionDeniedError",
     "evalue": "Unauthorized Access: Insufficient Permissions\nYou do not have the necessary privileges to execute the requested command. Double check that the resource exists and contact your system administrator or request the appropriate access level.\nSuggestions:\nVerify that you have the required permissions to perform the command.\nIf you believe you should have access, contact your system administrator or request the necessary privileges.\nEnsure that you are logged in with the correct user account.",
     "output_type": "error",
     "traceback": [
      "\u001B[0;31m---------------------------------------------------------------------------\u001B[0m",
      "\u001B[0;31mPermissionDeniedError\u001B[0m                     Traceback (most recent call last)",
      "Cell \u001B[0;32mIn[27], line 1\u001B[0m\n\u001B[0;32m----> 1\u001B[0m result \u001B[38;5;241m=\u001B[39m \u001B[43mrun\u001B[49m\u001B[38;5;241;43m.\u001B[39;49m\u001B[43mpoll\u001B[49m\u001B[43m(\u001B[49m\u001B[43m)\u001B[49m\n\u001B[1;32m      2\u001B[0m \u001B[38;5;28mprint\u001B[39m(result)\n",
      "File \u001B[0;32m~/Documents/projects/tq42sdk/tq42/exception_handling.py:50\u001B[0m, in \u001B[0;36mhandle_generic_sdk_errors.<locals>.wrapped\u001B[0;34m(*args, **kwargs)\u001B[0m\n\u001B[1;32m     38\u001B[0m     \u001B[38;5;28;01mraise\u001B[39;00m exceptions\u001B[38;5;241m.\u001B[39mInvalidArgumentError(\n\u001B[1;32m     39\u001B[0m         command\u001B[38;5;241m=\u001B[39mtraceback\u001B[38;5;241m.\u001B[39mextract_stack()[\u001B[38;5;241m0\u001B[39m]\u001B[38;5;241m.\u001B[39mline, details\u001B[38;5;241m=\u001B[39me\u001B[38;5;241m.\u001B[39mdetails\n\u001B[1;32m     40\u001B[0m     )\n\u001B[1;32m     41\u001B[0m \u001B[38;5;28;01mexcept\u001B[39;00m (\n\u001B[1;32m     42\u001B[0m     exceptions\u001B[38;5;241m.\u001B[39mPermissionDeniedError,\n\u001B[1;32m     43\u001B[0m     exceptions\u001B[38;5;241m.\u001B[39mUnauthenticatedError,\n\u001B[0;32m   (...)\u001B[0m\n\u001B[1;32m     48\u001B[0m     exceptions\u001B[38;5;241m.\u001B[39mExperimentRunCancelError,\n\u001B[1;32m     49\u001B[0m ) \u001B[38;5;28;01mas\u001B[39;00m e:\n\u001B[0;32m---> 50\u001B[0m     \u001B[38;5;28;01mraise\u001B[39;00m e \u001B[38;5;28;01mfrom\u001B[39;00m \u001B[38;5;28;01mNone\u001B[39;00m\n\u001B[1;32m     51\u001B[0m \u001B[38;5;28;01mexcept\u001B[39;00m (\u001B[38;5;167;01mPermissionError\u001B[39;00m, \u001B[38;5;167;01mOSError\u001B[39;00m):\n\u001B[1;32m     52\u001B[0m     \u001B[38;5;28;01mraise\u001B[39;00m exceptions\u001B[38;5;241m.\u001B[39mLocalPermissionError() \u001B[38;5;28;01mfrom\u001B[39;00m \u001B[38;5;28;01mNone\u001B[39;00m\n",
      "File \u001B[0;32m~/Documents/projects/tq42sdk/tq42/exception_handling.py:19\u001B[0m, in \u001B[0;36mhandle_generic_sdk_errors.<locals>.wrapped\u001B[0;34m(*args, **kwargs)\u001B[0m\n\u001B[1;32m     16\u001B[0m \u001B[38;5;129m@wraps\u001B[39m(func)\n\u001B[1;32m     17\u001B[0m \u001B[38;5;28;01mdef\u001B[39;00m \u001B[38;5;21mwrapped\u001B[39m(\u001B[38;5;241m*\u001B[39margs, \u001B[38;5;241m*\u001B[39m\u001B[38;5;241m*\u001B[39mkwargs):\n\u001B[1;32m     18\u001B[0m     \u001B[38;5;28;01mtry\u001B[39;00m:\n\u001B[0;32m---> 19\u001B[0m         \u001B[38;5;28;01mreturn\u001B[39;00m \u001B[43mfunc\u001B[49m\u001B[43m(\u001B[49m\u001B[38;5;241;43m*\u001B[39;49m\u001B[43margs\u001B[49m\u001B[43m,\u001B[49m\u001B[43m \u001B[49m\u001B[38;5;241;43m*\u001B[39;49m\u001B[38;5;241;43m*\u001B[39;49m\u001B[43mkwargs\u001B[49m\u001B[43m)\u001B[49m\n\u001B[1;32m     21\u001B[0m     \u001B[38;5;28;01mexcept\u001B[39;00m InactiveRpcError \u001B[38;5;28;01mas\u001B[39;00m e:\n\u001B[1;32m     22\u001B[0m         status_code \u001B[38;5;241m=\u001B[39m e\u001B[38;5;241m.\u001B[39mcode()\n",
      "File \u001B[0;32m~/Documents/projects/tq42sdk/tq42/experiment_run.py:124\u001B[0m, in \u001B[0;36mExperimentRun.poll\u001B[0;34m(self, tries, initial_delay, delay, backoff)\u001B[0m\n\u001B[1;32m    121\u001B[0m time\u001B[38;5;241m.\u001B[39msleep(initial_delay)\n\u001B[1;32m    123\u001B[0m \u001B[38;5;28;01mfor\u001B[39;00m _ \u001B[38;5;129;01min\u001B[39;00m \u001B[38;5;28mrange\u001B[39m(tries):\n\u001B[0;32m--> 124\u001B[0m     \u001B[38;5;28mself\u001B[39m\u001B[38;5;241m.\u001B[39mdata \u001B[38;5;241m=\u001B[39m \u001B[38;5;28;43mself\u001B[39;49m\u001B[38;5;241;43m.\u001B[39;49m\u001B[43m_get_data\u001B[49m\u001B[43m(\u001B[49m\u001B[43m)\u001B[49m\n\u001B[1;32m    125\u001B[0m     \u001B[38;5;28;01mif\u001B[39;00m \u001B[38;5;28mself\u001B[39m\u001B[38;5;241m.\u001B[39mdata\u001B[38;5;241m.\u001B[39mstatus \u001B[38;5;129;01min\u001B[39;00m [\n\u001B[1;32m    126\u001B[0m         ExperimentRunStatusProto\u001B[38;5;241m.\u001B[39mCOMPLETED,\n\u001B[1;32m    127\u001B[0m         ExperimentRunStatusProto\u001B[38;5;241m.\u001B[39mCANCELLED,\n\u001B[1;32m    128\u001B[0m         ExperimentRunStatusProto\u001B[38;5;241m.\u001B[39mFAILED,\n\u001B[1;32m    129\u001B[0m     ]:\n\u001B[1;32m    130\u001B[0m         \u001B[38;5;28;01mreturn\u001B[39;00m \u001B[38;5;28mself\u001B[39m\n",
      "File \u001B[0;32m~/Documents/projects/tq42sdk/tq42/exception_handling.py:24\u001B[0m, in \u001B[0;36mhandle_generic_sdk_errors.<locals>.wrapped\u001B[0;34m(*args, **kwargs)\u001B[0m\n\u001B[1;32m     22\u001B[0m status_code \u001B[38;5;241m=\u001B[39m e\u001B[38;5;241m.\u001B[39mcode()\n\u001B[1;32m     23\u001B[0m \u001B[38;5;28;01mif\u001B[39;00m status_code \u001B[38;5;241m==\u001B[39m StatusCode\u001B[38;5;241m.\u001B[39mPERMISSION_DENIED:\n\u001B[0;32m---> 24\u001B[0m     \u001B[38;5;28;01mraise\u001B[39;00m exceptions\u001B[38;5;241m.\u001B[39mPermissionDeniedError() \u001B[38;5;28;01mfrom\u001B[39;00m \u001B[38;5;28;01mNone\u001B[39;00m\n\u001B[1;32m     26\u001B[0m \u001B[38;5;28;01mif\u001B[39;00m status_code \u001B[38;5;241m==\u001B[39m StatusCode\u001B[38;5;241m.\u001B[39mUNAUTHENTICATED:\n\u001B[1;32m     27\u001B[0m     \u001B[38;5;28;01mraise\u001B[39;00m exceptions\u001B[38;5;241m.\u001B[39mUnauthenticatedError() \u001B[38;5;28;01mfrom\u001B[39;00m \u001B[38;5;28;01mNone\u001B[39;00m\n",
      "\u001B[0;31mPermissionDeniedError\u001B[0m: Unauthorized Access: Insufficient Permissions\nYou do not have the necessary privileges to execute the requested command. Double check that the resource exists and contact your system administrator or request the appropriate access level.\nSuggestions:\nVerify that you have the required permissions to perform the command.\nIf you believe you should have access, contact your system administrator or request the necessary privileges.\nEnsure that you are logged in with the correct user account."
     ]
    }
   ],
   "source": [
    "result = run.poll()\n",
    "print(result)"
   ]
  },
  {
   "cell_type": "code",
   "execution_count": null,
   "id": "5975e0be",
   "metadata": {
    "ExecuteTime": {
     "end_time": "2024-01-11T12:24:41.439463Z",
     "start_time": "2024-01-11T12:24:41.437539Z"
    }
   },
   "outputs": [],
   "source": [
    "result.data"
   ]
  }
 ],
 "metadata": {
  "kernelspec": {
   "display_name": "Python 3 (ipykernel)",
   "language": "python",
   "name": "python3"
  },
  "language_info": {
   "codemirror_mode": {
    "name": "ipython",
    "version": 3
   },
   "file_extension": ".py",
   "mimetype": "text/x-python",
   "name": "python",
   "nbconvert_exporter": "python",
   "pygments_lexer": "ipython3",
   "version": "3.9.12"
  },
  "vscode": {
   "interpreter": {
    "hash": "2b948f73c602804da10ac5ef2ce43914090a4d8e5675991f378fa84d87ab2597"
   }
  }
 },
 "nbformat": 4,
 "nbformat_minor": 5
}
