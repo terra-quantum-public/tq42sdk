{
 "cells": [
  {
   "attachments": {
    "TQ42%20Banner.png": {
     "image/png": "[encoded data removed]"
    }
   },
   "cell_type": "markdown",
   "id": "84c72a99",
   "metadata": {},
   "source": [
    "![TQ42%20Banner.png](attachment:TQ42%20Banner.png)"
   ]
  },
  {
   "cell_type": "markdown",
   "id": "2d30e6f9-c00a-4f9e-a52f-2e262ad6a786",
   "metadata": {},
   "source": [
    "# Welcome to TQ42\n",
    "\n",
    "## Example: Running a TetraOpt experiment using a communication channel"
   ]
  },
  {
   "cell_type": "markdown",
   "id": "8ddbb3ce-f147-4d43-acb4-5f5ba4a28d07",
   "metadata": {},
   "source": [
    "## ✨ Introduction \n",
    "A communication channel is a way for TetraOpt running in the cloud to communicate with an objective and local optimization function running locally. The example below will guide you in creating an experiment using this.\n",
    "\n",
    "For further readings, you can also consult the [developer documentation](https://docs.tq42.com/en/latest/index.html).\n",
    "\n",
    "## 🎯 Objective\n",
    "\n",
    "Running a TetraOpt experiment involves:\n",
    "1. Creating communication channels.\n",
    "2. Creating an objective and local optimization fuction\n",
    "3. Connecting the functions to the channels."
   ]
  },
  {
   "cell_type": "markdown",
   "id": "83238f93-c6ca-4965-8a25-b66478891518",
   "metadata": {},
   "source": [
    "\n",
    "## 1. Import the TQ42 API"
   ]
  },
  {
   "cell_type": "code",
   "execution_count": null,
   "id": "19a322e0",
   "metadata": {},
   "outputs": [],
   "source": [
    "#Import Packages\n",
    "import asyncio\n",
    "from scipy import optimize\n",
    "from tq42.organization import list_all as list_all_organizations\n",
    "from tq42.project import list_all as list_all_projects\n",
    "from tq42.experiment import list_all as list_all_experiments\n",
    "from tq42.channel import Channel, Ask, Tell\n",
    "from tq42.client import TQ42Client\n",
    "from tq42.algorithm import AlgorithmProto\n",
    "import numpy as np\n",
    "import OptimizationTestFunctions as otf\n",
    "\n",
    "from tq42.experiment_run import ExperimentRun, HardwareProto\n",
    "from ipywidgets import interact"
   ]
  },
  {
   "cell_type": "markdown",
   "id": "5913a059-da7c-4aaa-99eb-dc2c3d467833",
   "metadata": {},
   "source": [
    "## 2. Create a client"
   ]
  },
  {
   "cell_type": "code",
   "execution_count": null,
   "id": "35467e90",
   "metadata": {},
   "outputs": [],
   "source": [
    "# Connect to the cloud service\n",
    "# https://terraquantum.io\n",
    "with TQ42Client() as client:\n",
    "    print(client)\n",
    "    client.login()"
   ]
  },
  {
   "cell_type": "markdown",
   "id": "35db6703",
   "metadata": {},
   "source": [
    "## 3. Select an organization, project and experiment"
   ]
  },
  {
   "cell_type": "code",
   "execution_count": null,
   "id": "5808d04d",
   "metadata": {},
   "outputs": [],
   "source": [
    "# List the organizations available to you and select one\n",
    "org_list = list_all_organizations(client=client)\n",
    "    \n",
    "org=None\n",
    "def f(x):\n",
    "    global org\n",
    "    for o in org_list:\n",
    "        if o.data.name == x:\n",
    "            org = o\n",
    "            print(f\"Using organization {x}, {org.data.id}\")\n",
    "            return\n",
    "        \n",
    "interact(f, x=[o.data.name for o in org_list]);\n",
    "    "
   ]
  },
  {
   "cell_type": "code",
   "execution_count": null,
   "id": "5ce8b7f3",
   "metadata": {},
   "outputs": [],
   "source": [
    "proj_list = list_all_projects(client=client, organization_id=org.id)\n",
    "    \n",
    "proj=None\n",
    "def f(x):\n",
    "    global proj\n",
    "    for p in proj_list:\n",
    "        if p.data.name == x:\n",
    "            proj = p\n",
    "            print(f\"Using project {x}, {proj.data.id}\")\n",
    "            return\n",
    "        \n",
    "interact(f, x=[p.data.name for p in proj_list]);\n",
    "    "
   ]
  },
  {
   "cell_type": "code",
   "execution_count": null,
   "id": "b30757a5",
   "metadata": {
    "scrolled": true
   },
   "outputs": [],
   "source": [
    "# List the experiments within that project and select one\n",
    "exp_list = list_all_experiments(client=client, project_id=proj.id)\n",
    "    \n",
    "exp=None\n",
    "def f(x):\n",
    "    global exp\n",
    "    for e in exp_list:\n",
    "        if e.data.name == x:\n",
    "            exp = e\n",
    "            print(f\"Using experiment {x}, {exp.data.id}\")\n",
    "            return\n",
    "        \n",
    "interact(f, x=[e.data.name for e in exp_list]);"
   ]
  },
  {
   "cell_type": "markdown",
   "id": "a0712ce3-4a33-4591-ac53-9112597cb877",
   "metadata": {},
   "source": [
    "## 4. Create the communication channels"
   ]
  },
  {
   "cell_type": "code",
   "execution_count": null,
   "id": "884bfa3f-000c-4606-99d5-75b70c3fc023",
   "metadata": {},
   "outputs": [],
   "source": [
    "objective_func_channel = await Channel.create(client=client)\n",
    "local_opt_channel = await Channel.create(client=client)\n",
    "\n",
    "print(\"objective_func_channel.id: \", objective_func_channel.id)\n",
    "print(\"local_opt_channel.id: \", local_opt_channel.id)"
   ]
  },
  {
   "cell_type": "markdown",
   "id": "b6d9b2b0-11d1-4382-a09b-6ee1014a1ff3",
   "metadata": {},
   "source": [
    "## 5. Create an Objective Function"
   ]
  },
  {
   "cell_type": "code",
   "execution_count": null,
   "id": "3b23bef8-941c-4bb1-ab95-76219f743e43",
   "metadata": {},
   "outputs": [],
   "source": [
    "#this needs to be declared async so it runs on a different thread\n",
    "async def objective_function_callback(ask: Ask) -> Tell:\n",
    "    dim = len(ask.headers)\n",
    "    func = otf.Ackley(dim)\n",
    "    y = [float(func(np.array(parameter.values))) for parameter in ask.parameters]\n",
    "    \n",
    "    tell = Tell(\n",
    "        parameters=ask.parameters,\n",
    "        headers=ask.headers,\n",
    "        results=y\n",
    "    )\n",
    "    return tell"
   ]
  },
  {
   "cell_type": "markdown",
   "id": "6c3c9c4b-9d24-4981-9a7f-c4739b03f2d5",
   "metadata": {},
   "source": [
    "## 6. Create the local optimization function"
   ]
  },
  {
   "cell_type": "code",
   "execution_count": null,
   "id": "80395f75-1cfe-4c17-b369-6dbf8fcd478f",
   "metadata": {},
   "outputs": [],
   "source": [
    "#this needs to be declared async so it runs on a different thread\n",
    "async def local_optimization_function_callback(ask: Ask) -> Tell:\n",
    "    dim = len(ask.headers)\n",
    "    func = otf.Ackley(dim)\n",
    "    results, new_x = [], []\n",
    "\n",
    "    for parameter in ask.parameters:\n",
    "        res = optimize.minimize(func, np.array(parameter.values))\n",
    "        new_x.append({\"values\": res.x})\n",
    "        results.append(float(res.fun))\n",
    "\n",
    "    tell = Tell(\n",
    "        parameters=ask.parameters,\n",
    "        headers=ask.headers,\n",
    "        results=results,\n",
    "        candidates=new_x\n",
    "    )\n",
    "    return tell"
   ]
  },
  {
   "cell_type": "markdown",
   "id": "16244636-a9e8-4fff-811c-dcaa6939ca3f",
   "metadata": {},
   "source": [
    "## 7. Create the TetraOpt parameters "
   ]
  },
  {
   "cell_type": "code",
   "execution_count": null,
   "id": "10cd3789-9590-4adb-b005-13d25d5b6b59",
   "metadata": {},
   "outputs": [],
   "source": [
    "#For an explanation on each parameter, \n",
    "#you can refer to: https://docs.tq42.com/en/latest/TetraOpt_Algorithm/Parameters_and_Hyperparameters.html\n",
    "tetra_opt_params = { \n",
    "    'dimensionality': 10,\n",
    "    'iteration_number': 4, \n",
    "    'maximal_rank': 4, \n",
    "    'points_number': 1, \n",
    "    'quantization': False,\n",
    "    'tolerance':0.001,\n",
    "    'lower_limits': [0,0,0,0,0,0,0,0,0,0], \n",
    "    'upper_limits': [9,9,9,9,9,9,9,9,9,9], \n",
    "    'grid': [10,10,10,10,10,10,10,10,10,10],\n",
    "    #for the 2 parameters below,\n",
    "    #this is where we use the id of the channel object we created above\n",
    "    \"objective_function_channel_id\": objective_func_channel.id,\n",
    "    \"local_optimizer_channel_id\": local_opt_channel.id,\n",
    "}\n",
    "\n"
   ]
  },
  {
   "cell_type": "markdown",
   "id": "8718753a-aa9c-4612-9558-151964417eaf",
   "metadata": {},
   "source": [
    "## 8. Create the experiment run"
   ]
  },
  {
   "cell_type": "code",
   "execution_count": null,
   "id": "9be1e654-2d67-464a-8e84-23e0ce688c55",
   "metadata": {},
   "outputs": [],
   "source": [
    "run = ExperimentRun.create(\n",
    "    client=client,\n",
    "    algorithm=AlgorithmProto.TETRA_OPT,\n",
    "    experiment_id=exp.id,\n",
    "    compute=HardwareProto.SMALL,\n",
    "    parameters={'parameters': tetra_opt_params, 'inputs': {}}\n",
    ")\n",
    "\n",
    "print(f\"Running experiment within: \\n Org ID {org.data.name, org.id}, \\n Proj {proj.data.name, proj.id} and \\n Exp {exp.data.name, exp.id}`\")\n",
    "print(f\"Experiment run id: {run.id}\")"
   ]
  },
  {
   "cell_type": "markdown",
   "id": "ce8c8a22-891f-4c6f-b9b8-936fa6731c81",
   "metadata": {},
   "source": [
    "## 9. Connect the callback functions to their respective channels"
   ]
  },
  {
   "cell_type": "code",
   "execution_count": null,
   "id": "e3cddd80-bc10-41ab-928c-0630632b13d1",
   "metadata": {},
   "outputs": [],
   "source": [
    "#this needs to be declared async\n",
    "await asyncio.gather(\n",
    "        objective_func_channel.connect(\n",
    "            callback=objective_function_callback,\n",
    "            finish_callback=lambda: print(\"objective_function_callback async function done!\"),\n",
    "            max_duration_in_sec=None, message_timeout_in_sec=500\n",
    "        ),\n",
    "        local_opt_channel.connect(\n",
    "            callback=local_optimization_function_callback,\n",
    "            finish_callback=lambda: print(\"local_optimization_function_callback async function done!\"),\n",
    "            max_duration_in_sec=None, message_timeout_in_sec=500\n",
    "        )\n",
    "    )"
   ]
  },
  {
   "cell_type": "markdown",
   "id": "9c617dc8-5715-4a46-bbec-e7297e582474",
   "metadata": {},
   "source": [
    "## 10. Poll the result."
   ]
  },
  {
   "cell_type": "code",
   "execution_count": null,
   "id": "cdfee5e4-4785-4c44-80b1-4fbf88cb11b2",
   "metadata": {},
   "outputs": [],
   "source": [
    "#This will print out the result once it is ready.\n",
    "print(run.poll())"
   ]
  }
 ],
 "metadata": {
  "kernelspec": {
   "display_name": "Python 3 (ipykernel)",
   "language": "python",
   "name": "python3"
  },
  "language_info": {
   "codemirror_mode": {
    "name": "ipython",
    "version": 3
   },
   "file_extension": ".py",
   "mimetype": "text/x-python",
   "name": "python",
   "nbconvert_exporter": "python",
   "pygments_lexer": "ipython3",
   "version": "3.10.13"
  },
  "vscode": {
   "interpreter": {
    "hash": "4c2ad97c998e2a01cc90ffc8f9f23ae19426f7e6b99947651fa609e98d400e38"
   }
  }
 },
 "nbformat": 4,
 "nbformat_minor": 5
}
