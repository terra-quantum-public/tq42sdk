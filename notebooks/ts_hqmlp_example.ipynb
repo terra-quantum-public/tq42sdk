{
 "cells": [
  {
   "cell_type": "markdown",
   "id": "d123f4a9",
   "metadata": {},
   "source": [
    "# Welcome to TQ42\n",
    "\n",
    "## Example of Hybrid Quantum Multilayer Perceptron (HQMLP)"
   ]
  },
  {
   "cell_type": "code",
   "execution_count": null,
   "id": "5c75a5bb",
   "metadata": {},
   "outputs": [],
   "source": [
    "from tq42.client import TQ42Client\n",
    "from tq42.organization import list_all as list_all_organizations\n",
    "from tq42.project import list_all as list_all_projects\n",
    "from tq42.experiment import list_all as list_all_experiments\n",
    "from tq42.experiment_run import ExperimentRun\n",
    "from tq42.compute import HardwareProto\n",
    "from tq42.algorithm import (\n",
    "    AlgorithmProto, \n",
    "    ActFuncProto,\n",
    "    OptimProto, \n",
    "    LossFuncProto, \n",
    "    MeasurementModeProto,\n",
    "    MeasureProto,\n",
    "    EntanglingProto,\n",
    "    DiffMethodProto,\n",
    "    TSEvalInputsProto,\n",
    "    QubitTypeProto,\n",
    "    DatasetStorageInfoProto, \n",
    "    MLTrainInputsProto,\n",
    "    TSHQMLPTrainMetadataProto, \n",
    "    TSHQMLPTrainParametersProto\n",
    ")\n",
    "from google.protobuf.json_format import MessageToDict"
   ]
  },
  {
   "cell_type": "markdown",
   "id": "0db0b66c",
   "metadata": {},
   "source": [
    "# Create a client and selecting org, proj and exp"
   ]
  },
  {
   "cell_type": "code",
   "execution_count": null,
   "id": "018a955b",
   "metadata": {
    "jupyter": {
     "outputs_hidden": false
    }
   },
   "outputs": [],
   "source": [
    "with TQ42Client() as client:\n",
    "    org_sample = list_all_organizations(client=client)[0] \n",
    "    proj_sample = list_all_projects(client=client, organization_id=org_sample.id)[0]\n",
    "    exp_sample = list_all_experiments(client=client, project_id=proj_sample.id)[-1]"
   ]
  },
  {
   "cell_type": "code",
   "execution_count": null,
   "id": "8bb4abf3",
   "metadata": {},
   "outputs": [],
   "source": [
    "    print(f\"Running experiment within: Org {org_sample.id}, Proj {proj_sample.id} and Exp {exp_sample.id}`\")"
   ]
  },
  {
   "cell_type": "markdown",
   "id": "f5fbafbe",
   "metadata": {},
   "source": [
    "# Set parameters for the train"
   ]
  },
  {
   "cell_type": "code",
   "execution_count": null,
   "id": "51a849eb",
   "metadata": {},
   "outputs": [],
   "source": [
    "    parameters_train = MessageToDict(TSHQMLPTrainMetadataProto(\n",
    "        parameters=TSHQMLPTrainParametersProto(\n",
    "            input_width=1,\n",
    "            label_width=1,\n",
    "            hidden_size=17,\n",
    "            num_qubits=8,\n",
    "            depth=7,\n",
    "            measurement_mode=MeasurementModeProto.NONE,\n",
    "            rotation=MeasureProto.X,\n",
    "            entangling=EntanglingProto.BASIC,\n",
    "            measure=MeasureProto.Z,\n",
    "            diff_method=DiffMethodProto.ADJOINT,\n",
    "            qubit_type=QubitTypeProto.LIGHTNING_QUBIT,\n",
    "            act_func=ActFuncProto.SIGMOID,\n",
    "            dropout=False,\n",
    "            dropout_p=0.2,\n",
    "            bn=False,\n",
    "            num_epochs=5,\n",
    "            batch_size=20,\n",
    "            learning_rate=0.05,\n",
    "            optim=OptimProto.ADAM,\n",
    "            loss_func=LossFuncProto.MSE,\n",
    "            time_column=\"Time\",\n",
    "            target_column=\"Power, kW\"\n",
    "        ),\n",
    "        inputs=MLTrainInputsProto(\n",
    "            data=DatasetStorageInfoProto(storage_id=\"ENTER_DATASET_STORAGE_ID_HERE\")\n",
    "        )\n",
    "    ), preserving_proto_field_name=True)"
   ]
  },
  {
   "cell_type": "markdown",
   "id": "6dcc2448",
   "metadata": {},
   "source": [
    "# Train the model"
   ]
  },
  {
   "cell_type": "code",
   "execution_count": null,
   "id": "cbdcd293",
   "metadata": {},
   "outputs": [],
   "source": [
    "    run = ExperimentRun.create(\n",
    "        client=client,\n",
    "        algorithm=AlgorithmProto.TS_HQMLP_TRAIN, \n",
    "        experiment_id=exp_sample.id,\n",
    "        compute=HardwareProto.SMALL, \n",
    "        parameters=parameters_train\n",
    "    )\n",
    "    \n",
    "    print(run.data)"
   ]
  },
  {
   "cell_type": "markdown",
   "id": "3944a504",
   "metadata": {},
   "source": [
    "# Import functions for the evaluate"
   ]
  },
  {
   "cell_type": "code",
   "execution_count": null,
   "id": "d59c4e7a",
   "metadata": {},
   "outputs": [],
   "source": [
    "from tq42.algorithm import (\n",
    "    ModelStorageInfoProto,\n",
    "    TSHQMLPEvalMetadataProto,\n",
    "    TSHQMLPEvalParametersProto\n",
    ") "
   ]
  },
  {
   "cell_type": "markdown",
   "id": "6ce4e24b",
   "metadata": {},
   "source": [
    "# Set parameters for the evaluate"
   ]
  },
  {
   "cell_type": "code",
   "execution_count": null,
   "id": "c29fe512",
   "metadata": {},
   "outputs": [],
   "source": [
    "params_eval =  MessageToDict(TSHQMLPEvalMetadataProto(\n",
    "    parameters=TSHQMLPEvalParametersProto(\n",
    "        input_width=1,\n",
    "        label_width=1,\n",
    "        hidden_size=17,\n",
    "        num_qubits=8,\n",
    "        depth=7,\n",
    "        measurement_mode=MeasurementModeProto.NONE,\n",
    "        rotation=MeasureProto.X,\n",
    "        entangling=EntanglingProto.BASIC,\n",
    "        measure=MeasureProto.Z,\n",
    "        diff_method=DiffMethodProto.ADJOINT,\n",
    "        qubit_type=QubitTypeProto.LIGHTNING_QUBIT,\n",
    "        act_func=ActFuncProto.SIGMOID,\n",
    "        dropout=False,\n",
    "        dropout_p=0.2,\n",
    "        bn=False,\n",
    "        time_column=\"Time\",\n",
    "    ),\n",
    "    inputs=TSEvalInputsProto(\n",
    "        model=ModelStorageInfoProto(storage_id=\"MODEL_BUCKET_STORAGE_ID\"),\n",
    "        data=DatasetStorageInfoProto(storage_id=\"DATA_BUCKET_STORAGE_ID\")\n",
    "    )  \n",
    "), preserving_proto_field_name=True)"
   ]
  },
  {
   "cell_type": "markdown",
   "id": "1a52d6d1",
   "metadata": {},
   "source": [
    "# Evaluate the model"
   ]
  },
  {
   "cell_type": "code",
   "execution_count": null,
   "id": "45e1944a",
   "metadata": {},
   "outputs": [],
   "source": [
    "with TQ42Client() as client:\n",
    "    run = ExperimentRun.create(\n",
    "        client=client,\n",
    "        algorithm=AlgorithmProto.TS_HQMLP_EVAL,\n",
    "        experiment_id=exp_sample.id,\n",
    "        compute=HardwareProto.SMALL,\n",
    "        parameters=params_eval\n",
    "    )\n",
    "    print(run.data)"
   ]
  }
 ],
 "metadata": {
  "kernelspec": {
   "display_name": "Python 3 (ipykernel)",
   "language": "python",
   "name": "python3"
  },
  "language_info": {
   "codemirror_mode": {
    "name": "ipython",
    "version": 3
   },
   "file_extension": ".py",
   "mimetype": "text/x-python",
   "name": "python",
   "nbconvert_exporter": "python",
   "pygments_lexer": "ipython3",
   "version": "3.11.6"
  }
 },
 "nbformat": 4,
 "nbformat_minor": 5
}
