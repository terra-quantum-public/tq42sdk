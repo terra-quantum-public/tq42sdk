{
 "cells": [
  {
   "cell_type": "markdown",
   "id": "30a9fe3b-bf21-43a9-93e1-7be7bc086fa6",
   "metadata": {},
   "source": [
    "# Welcome to TQ42\n",
    "\n",
    "## Example of Hybrid Quantum Multilayer Perceptron (HQMLP)"
   ]
  },
  {
   "cell_type": "code",
   "execution_count": 1,
   "id": "bf7c0de1-c5e4-46eb-a0d1-dbe6eb8585e0",
   "metadata": {},
   "outputs": [],
   "source": [
    "from tq42.client import TQ42Client\n",
    "from tq42.organization import list_all as list_all_organizations\n",
    "from tq42.project import list_all as list_all_projects\n",
    "from tq42.experiment import list_all as list_all_experiments\n",
    "from tq42.experiment_run import ExperimentRun\n",
    "from tq42.compute import HardwareProto\n",
    "from tq42.algorithm import (\n",
    "    AlgorithmProto, \n",
    "    ActFuncProto,\n",
    "    OptimProto, \n",
    "    LossFuncProto, \n",
    "    MeasurementModeProto,\n",
    "    MeasureProto,\n",
    "    EntanglingProto,\n",
    "    DiffMethodProto,\n",
    "    TSEvalInputsProto,\n",
    "    QubitTypeProto,\n",
    "    DatasetStorageInfoProto, \n",
    "    TSTrainInputsProto,\n",
    "    TSHQMLPTrainMetadataProto, \n",
    "    TSHQMLPTrainParametersProto\n",
    ")\n",
    "from google.protobuf.json_format import MessageToDict"
   ]
  },
  {
   "cell_type": "markdown",
   "id": "16e97c79-fe6f-4638-8583-97dac10e2b23",
   "metadata": {},
   "source": [
    "# Create a client and selecting org, proj and exp"
   ]
  },
  {
   "cell_type": "code",
   "execution_count": 2,
   "id": "1e2c2381-bed3-4e2b-9e00-48db34e49a95",
   "metadata": {},
   "outputs": [
    {
     "name": "stdout",
     "output_type": "stream",
     "text": [
      "<tq42.project.Project object at 0x1096bddc0>\n",
      "<tq42.organization.Organization object at 0x1096bdc40>\n",
      "<tq42.experiment.Experiment object at 0x1096bdbe0>\n"
     ]
    }
   ],
   "source": [
    "\n",
    "with TQ42Client() as client:\n",
    "    org_sample = list_all_organizations(client=client)[0] \n",
    "    proj_sample = list_all_projects(client=client, organization_id=org_sample.id)[0]\n",
    "    exp_sample = list_all_experiments(client=client, project_id=proj_sample.id)[-1]\n",
    "\n",
    "    print(proj_sample)\n",
    "    print(org_sample)\n",
    "    print(exp_sample)\n",
    "\n"
   ]
  },
  {
   "cell_type": "markdown",
   "id": "c409982c-a32d-44eb-82b3-7f18cb4022ce",
   "metadata": {},
   "source": [
    "# Set parameters for the train"
   ]
  },
  {
   "cell_type": "code",
   "execution_count": 3,
   "id": "4d3acb6a-33a0-4cf4-b9bc-ecb038960f7d",
   "metadata": {},
   "outputs": [],
   "source": [
    "\n",
    "parameters_train = MessageToDict(TSHQMLPTrainMetadataProto(\n",
    "    parameters=TSHQMLPTrainParametersProto(\n",
    "        input_width=1,\n",
    "        label_width=1,\n",
    "        hidden_size=17,\n",
    "        num_qubits=8,\n",
    "        depth=7,\n",
    "        measurement_mode=MeasurementModeProto.NONE,\n",
    "        rotation=MeasureProto.X,\n",
    "        entangling=EntanglingProto.BASIC,\n",
    "        measure=MeasureProto.Z,\n",
    "        diff_method=DiffMethodProto.ADJOINT,\n",
    "        qubit_type=QubitTypeProto.LIGHTNING_QUBIT,\n",
    "        act_func=ActFuncProto.SIGMOID,\n",
    "        dropout=False,\n",
    "        dropout_p=0.2,\n",
    "        bn=False,\n",
    "        num_epochs=5,\n",
    "        batch_size=20,\n",
    "        learning_rate=0.05,\n",
    "        optim=OptimProto.ADAM,\n",
    "        loss_func=LossFuncProto.MSE,\n",
    "    ),\n",
    "    inputs=TSTrainInputsProto(\n",
    "        data=DatasetStorageInfoProto(storage_id=\"1fcc5e6c-b962-410b-a257-739f7172db03\")\n",
    "    )\n",
    "), preserving_proto_field_name=True)"
   ]
  },
  {
   "cell_type": "markdown",
   "id": "407d57f4-a139-4d3c-ad99-f77fcb0cf9ae",
   "metadata": {},
   "source": [
    "# Train the model"
   ]
  },
  {
   "cell_type": "code",
   "execution_count": 4,
   "id": "169fadb5-49f6-4f5b-97a6-3268db5b78c3",
   "metadata": {},
   "outputs": [
    {
     "name": "stdout",
     "output_type": "stream",
     "text": [
      "id: \"544cbfac-feb8-4179-901f-8b47dde9b5c0\"\n",
      "experiment_id: \"811fd59b-2b51-42ea-b573-b5aebb0d5d7a\"\n",
      "sequential_id: 38\n",
      "status: QUEUED\n",
      "algorithm: TS_HQMLP_TRAIN\n",
      "hardware: SMALL\n",
      "metadata: \"{\\\"parameters\\\":{\\\"input_width\\\":1,\\\"label_width\\\":1,\\\"hidden_size\\\":17,\\\"num_qubits\\\":8,\\\"depth\\\":7,\\\"measurement_mode\\\":\\\"NONE\\\",\\\"rotation\\\":\\\"X\\\",\\\"entangling\\\":\\\"BASIC\\\",\\\"measure\\\":\\\"Z\\\",\\\"diff_method\\\":\\\"ADJOINT\\\",\\\"qubit_type\\\":\\\"LIGHTNING_QUBIT\\\",\\\"act_func\\\":\\\"SIGMOID\\\",\\\"dropout\\\":false,\\\"dropout_p\\\":0.2,\\\"bn\\\":false,\\\"num_epochs\\\":5,\\\"batch_size\\\":20,\\\"learning_rate\\\":0.05,\\\"optim\\\":\\\"ADAM\\\",\\\"loss_func\\\":\\\"MSE\\\",\\\"train_model_info\\\":null},\\\"inputs\\\":{\\\"data\\\":{\\\"storage_id\\\":\\\"1fcc5e6c-b962-410b-a257-739f7172db03\\\"}}}\"\n",
      "result {\n",
      "}\n",
      "created_by: \"35dc8cba-b06d-4f15-b9bc-588f608789de\"\n",
      "created_at {\n",
      "  seconds: 1705664885\n",
      "  nanos: 342501208\n",
      "}\n"
     ]
    }
   ],
   "source": [
    "\n",
    "run = ExperimentRun.create(\n",
    "    client=client,\n",
    "    algorithm=AlgorithmProto.TS_HQMLP_TRAIN, \n",
    "    experiment_id=exp_sample.id,\n",
    "    compute=HardwareProto.SMALL, \n",
    "    parameters=parameters_train\n",
    ")\n",
    "\n",
    "print(run.data)"
   ]
  },
  {
   "cell_type": "markdown",
   "id": "b0b2b311-b549-4a54-bd70-ca95e353f29c",
   "metadata": {},
   "source": [
    "# Import functions for the evaluate"
   ]
  },
  {
   "cell_type": "code",
   "execution_count": 5,
   "id": "417ae287-2af1-41e2-bb3e-cc4c17d2410c",
   "metadata": {},
   "outputs": [],
   "source": [
    "from tq42.algorithm import (\n",
    "    ModelStorageInfoProto,\n",
    "    TSHQMLPEvalMetadataProto,\n",
    "    TSHQMLPEvalParametersProto\n",
    ") "
   ]
  },
  {
   "cell_type": "markdown",
   "id": "ade33973-38b3-41e2-881a-0c8c7e4e8e7f",
   "metadata": {},
   "source": [
    "# Set parameters for the evaluate"
   ]
  },
  {
   "cell_type": "code",
   "execution_count": 6,
   "id": "c2565e58-b31b-4b32-8fc7-b33953c6787f",
   "metadata": {},
   "outputs": [],
   "source": [
    "params_eval =  MessageToDict(TSHQMLPEvalMetadataProto(\n",
    "    parameters=TSHQMLPEvalParametersProto(\n",
    "        input_width=1,\n",
    "        label_width=1,\n",
    "        hidden_size=17,\n",
    "        num_qubits=8,\n",
    "        depth=7,\n",
    "        measurement_mode=MeasurementModeProto.NONE,\n",
    "        rotation=MeasureProto.X,\n",
    "        entangling=EntanglingProto.BASIC,\n",
    "        measure=MeasureProto.Z,\n",
    "        diff_method=DiffMethodProto.ADJOINT,\n",
    "        qubit_type=QubitTypeProto.LIGHTNING_QUBIT,\n",
    "        act_func=ActFuncProto.SIGMOID,\n",
    "        dropout=False,\n",
    "        dropout_p=0.2,\n",
    "        bn=False,\n",
    "    ),\n",
    "    inputs=TSEvalInputsProto(\n",
    "        model=ModelStorageInfoProto(storage_id=\"MODEL_BUCKET_STORAGE_ID\"),\n",
    "        data=DatasetStorageInfoProto(storage_id=\"DATA_BUCKET_STORAGE_ID\")\n",
    "    )  \n",
    "), preserving_proto_field_name=True)"
   ]
  },
  {
   "cell_type": "markdown",
   "id": "33ec2ddc-b443-4a35-810a-060e98c84b5f",
   "metadata": {},
   "source": [
    "# Evaluate the model"
   ]
  },
  {
   "cell_type": "code",
   "execution_count": 7,
   "id": "e84543c0-2810-401b-a865-53a764876981",
   "metadata": {},
   "outputs": [
    {
     "name": "stdout",
     "output_type": "stream",
     "text": [
      "id: \"0b0900fb-3713-47d7-9802-60ac80d1f71b\"\n",
      "experiment_id: \"811fd59b-2b51-42ea-b573-b5aebb0d5d7a\"\n",
      "sequential_id: 39\n",
      "status: QUEUED\n",
      "algorithm: TS_HQMLP_EVAL\n",
      "hardware: SMALL\n",
      "metadata: \"{\\\"parameters\\\":{\\\"input_width\\\":1,\\\"label_width\\\":1,\\\"hidden_size\\\":17,\\\"num_qubits\\\":8,\\\"depth\\\":7,\\\"measurement_mode\\\":\\\"NONE\\\",\\\"rotation\\\":\\\"X\\\",\\\"entangling\\\":\\\"BASIC\\\",\\\"measure\\\":\\\"Z\\\",\\\"diff_method\\\":\\\"ADJOINT\\\",\\\"qubit_type\\\":\\\"LIGHTNING_QUBIT\\\",\\\"act_func\\\":\\\"SIGMOID\\\",\\\"dropout\\\":false,\\\"dropout_p\\\":0.2,\\\"bn\\\":false},\\\"inputs\\\":{\\\"model\\\":{\\\"storage_id\\\":\\\"MODEL_BUCKET_STORAGE_ID\\\"},\\\"data\\\":{\\\"storage_id\\\":\\\"DATA_BUCKET_STORAGE_ID\\\"}}}\"\n",
      "result {\n",
      "}\n",
      "created_by: \"35dc8cba-b06d-4f15-b9bc-588f608789de\"\n",
      "created_at {\n",
      "  seconds: 1705664891\n",
      "  nanos: 31514947\n",
      "}\n"
     ]
    }
   ],
   "source": [
    "    run = ExperimentRun.create(\n",
    "        client=client,\n",
    "        algorithm=AlgorithmProto.TS_HQMLP_EVAL,\n",
    "        experiment_id=exp_sample.id,\n",
    "        compute=HardwareProto.SMALL,\n",
    "        parameters=params_eval\n",
    "    )\n",
    "print(run.data)"
   ]
  }
 ],
 "metadata": {
  "kernelspec": {
   "display_name": "Python 3 (ipykernel)",
   "language": "python",
   "name": "python3"
  },
  "language_info": {
   "codemirror_mode": {
    "name": "ipython",
    "version": 3
   },
   "file_extension": ".py",
   "mimetype": "text/x-python",
   "name": "python",
   "nbconvert_exporter": "python",
   "pygments_lexer": "ipython3",
   "version": "3.9.18"
  }
 },
 "nbformat": 4,
 "nbformat_minor": 5
}
