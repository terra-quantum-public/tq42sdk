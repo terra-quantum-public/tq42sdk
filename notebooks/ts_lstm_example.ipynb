{
 "cells": [
  {
   "cell_type": "markdown",
   "id": "30a9fe3b-bf21-43a9-93e1-7be7bc086fa6",
   "metadata": {},
   "source": [
    "# Welcome to TQ42\n",
    "\n",
    "## Example of Long Short-Term Memory (LSTM)"
   ]
  },
  {
   "cell_type": "code",
   "execution_count": 23,
   "id": "bf7c0de1-c5e4-46eb-a0d1-dbe6eb8585e0",
   "metadata": {},
   "outputs": [],
   "source": [
    "from tq42.client import TQ42Client\n",
    "from tq42.organization import list_all as list_all_organizations\n",
    "from tq42.project import list_all as list_all_projects\n",
    "from tq42.experiment import list_all as list_all_experiments\n",
    "from tq42.experiment_run import ExperimentRun\n",
    "from tq42.compute import HardwareProto\n",
    "from tq42.algorithm import (\n",
    "    AlgorithmProto, \n",
    "    OptimProto, \n",
    "    LossFuncProto, \n",
    "    DatasetStorageInfoProto, \n",
    "    TSLSTMTrainMetadataProto, \n",
    "    TSLSTMTrainParametersProto,\n",
    "    MLTrainInputsProto\n",
    ")\n",
    "from google.protobuf.json_format import MessageToDict"
   ]
  },
  {
   "cell_type": "markdown",
   "id": "16e97c79-fe6f-4638-8583-97dac10e2b23",
   "metadata": {},
   "source": [
    "# Create a client and selecting org, proj and exp"
   ]
  },
  {
   "cell_type": "code",
   "execution_count": 24,
   "id": "1e2c2381-bed3-4e2b-9e00-48db34e49a95",
   "metadata": {},
   "outputs": [
    {
     "name": "stdout",
     "output_type": "stream",
     "text": [
      "<tq42.project.Project object at 0x10f7dda60>\n",
      "<tq42.organization.Organization object at 0x10f7f57f0>\n",
      "<tq42.experiment.Experiment object at 0x10cf00ac0>\n"
     ]
    }
   ],
   "source": [
    "\n",
    "with TQ42Client() as client:\n",
    "    org_sample = list_all_organizations(client=client)[0] \n",
    "    proj_sample = list_all_projects(client=client, organization_id=org_sample.id)[0]\n",
    "    exp_sample = list_all_experiments(client=client, project_id=proj_sample.id)[-1]\n",
    "\n",
    "    print(proj_sample)\n",
    "    print(org_sample)\n",
    "    print(exp_sample)\n",
    "\n"
   ]
  },
  {
   "cell_type": "markdown",
   "id": "c409982c-a32d-44eb-82b3-7f18cb4022ce",
   "metadata": {},
   "source": [
    "# Set parameters for the train"
   ]
  },
  {
   "cell_type": "code",
   "execution_count": 25,
   "id": "4d3acb6a-33a0-4cf4-b9bc-ecb038960f7d",
   "metadata": {},
   "outputs": [],
   "source": [
    "\n",
    "parameters_train = MessageToDict(TSLSTMTrainMetadataProto(\n",
    "    parameters=TSLSTMTrainParametersProto(\n",
    "        input_width=24,\n",
    "        label_width=1,\n",
    "        hidden_size=17,\n",
    "        dropout_coef=0.17,\n",
    "        num_epochs=20,\n",
    "        batch_size=128,\n",
    "        learning_rate=0.001,\n",
    "        optim=OptimProto.ADAM,\n",
    "        loss_func=LossFuncProto.MAE,\n",
    "        time_column=\"Time\",\n",
    "        target_column=\"Power, kW\"\n",
    "    ),\n",
    "    inputs=MLTrainInputsProto(\n",
    "        data=DatasetStorageInfoProto(storage_id=\"fc4310c5-a2a3-43cd-990c-8dd2b1aec994\")\n",
    "    )\n",
    "), preserving_proto_field_name=True)"
   ]
  },
  {
   "cell_type": "markdown",
   "id": "407d57f4-a139-4d3c-ad99-f77fcb0cf9ae",
   "metadata": {},
   "source": [
    "# Train the model"
   ]
  },
  {
   "cell_type": "code",
   "execution_count": 26,
   "id": "169fadb5-49f6-4f5b-97a6-3268db5b78c3",
   "metadata": {},
   "outputs": [
    {
     "name": "stdout",
     "output_type": "stream",
     "text": [
      "id: \"e4724c5b-414d-4c31-9181-b0b7aaaab9ef\"\n",
      "experiment_id: \"811fd59b-2b51-42ea-b573-b5aebb0d5d7a\"\n",
      "sequential_id: 13\n",
      "status: QUEUED\n",
      "algorithm: TS_LSTM_TRAIN\n",
      "hardware: SMALL\n",
      "metadata: \"{\\\"parameters\\\":{\\\"input_width\\\":24,\\\"label_width\\\":1,\\\"hidden_size\\\":17,\\\"dropout_coef\\\":0.17,\\\"num_epochs\\\":20,\\\"batch_size\\\":128,\\\"learning_rate\\\":0.001,\\\"optim\\\":\\\"ADAM\\\",\\\"loss_func\\\":\\\"MAE\\\",\\\"train_model_info\\\":null},\\\"inputs\\\":{\\\"data\\\":{\\\"storage_id\\\":\\\"fc4310c5-a2a3-43cd-990c-8dd2b1aec994\\\"}}}\"\n",
      "result {\n",
      "}\n",
      "created_by: \"35dc8cba-b06d-4f15-b9bc-588f608789de\"\n",
      "created_at {\n",
      "  seconds: 1705660472\n",
      "  nanos: 338705048\n",
      "}\n"
     ]
    }
   ],
   "source": [
    "\n",
    "run = ExperimentRun.create(\n",
    "    client=client,\n",
    "    algorithm=AlgorithmProto.TS_LSTM_TRAIN, \n",
    "    experiment_id=exp_sample.id,\n",
    "    compute=HardwareProto.SMALL, \n",
    "    parameters=parameters_train\n",
    ")\n",
    "\n",
    "print(run.data)"
   ]
  },
  {
   "cell_type": "markdown",
   "id": "b0b2b311-b549-4a54-bd70-ca95e353f29c",
   "metadata": {},
   "source": [
    "# Import functions for the evaluate"
   ]
  },
  {
   "cell_type": "code",
   "execution_count": 27,
   "id": "417ae287-2af1-41e2-bb3e-cc4c17d2410c",
   "metadata": {},
   "outputs": [],
   "source": [
    "from tq42.algorithm import (\n",
    "    ModelStorageInfoProto,\n",
    "    TSEvalInputsProto,\n",
    "    TSLSTMEvalMetadataProto,\n",
    "    TSLSTMEvalParametersProto\n",
    ")"
   ]
  },
  {
   "cell_type": "markdown",
   "id": "ade33973-38b3-41e2-881a-0c8c7e4e8e7f",
   "metadata": {},
   "source": [
    "# Set parameters for the evaluate"
   ]
  },
  {
   "cell_type": "code",
   "execution_count": 28,
   "id": "c2565e58-b31b-4b32-8fc7-b33953c6787f",
   "metadata": {},
   "outputs": [],
   "source": [
    "params_eval = MessageToDict(TSLSTMEvalMetadataProto(\n",
    "    parameters=TSLSTMEvalParametersProto(\n",
    "        input_width=1,\n",
    "        label_width=1,\n",
    "        hidden_size=17,\n",
    "        dropout_coef=0.24,\n",
    "        time_column=\"Time\"\n",
    "    ),\n",
    "    inputs=TSEvalInputsProto(\n",
    "        model=ModelStorageInfoProto(storage_id=\"MODEL_BUCKET_STORAGE_ID\"),\n",
    "        data=DatasetStorageInfoProto(storage_id=\"DATA_BUCKET_STORAGE_ID\")\n",
    "    )\n",
    "), preserving_proto_field_name=True)"
   ]
  },
  {
   "cell_type": "markdown",
   "id": "33ec2ddc-b443-4a35-810a-060e98c84b5f",
   "metadata": {},
   "source": [
    "# Evaluate the model"
   ]
  },
  {
   "cell_type": "code",
   "execution_count": 29,
   "id": "e84543c0-2810-401b-a865-53a764876981",
   "metadata": {},
   "outputs": [
    {
     "name": "stdout",
     "output_type": "stream",
     "text": [
      "id: \"ff12f5d8-ee02-4438-a138-ec4969d2d361\"\n",
      "experiment_id: \"811fd59b-2b51-42ea-b573-b5aebb0d5d7a\"\n",
      "sequential_id: 14\n",
      "status: QUEUED\n",
      "algorithm: TS_LSTM_EVAL\n",
      "hardware: SMALL\n",
      "metadata: \"{\\\"parameters\\\":{\\\"input_width\\\":1,\\\"label_width\\\":1,\\\"hidden_size\\\":17,\\\"dropout_coef\\\":0.24},\\\"inputs\\\":{\\\"model\\\":{\\\"storage_id\\\":\\\"MODEL_BUCKET_STORAGE_ID\\\"},\\\"data\\\":{\\\"storage_id\\\":\\\"DATA_BUCKET_STORAGE_ID\\\"}}}\"\n",
      "result {\n",
      "}\n",
      "created_by: \"35dc8cba-b06d-4f15-b9bc-588f608789de\"\n",
      "created_at {\n",
      "  seconds: 1705660479\n",
      "  nanos: 305211590\n",
      "}\n"
     ]
    }
   ],
   "source": [
    "    run = ExperimentRun.create(\n",
    "        client=client,\n",
    "        algorithm=AlgorithmProto.TS_LSTM_EVAL,\n",
    "        experiment_id=exp_sample.id,\n",
    "        compute=HardwareProto.SMALL,\n",
    "        parameters=params_eval\n",
    "    )\n",
    "print(run.data)"
   ]
  }
 ],
 "metadata": {
  "kernelspec": {
   "display_name": "Python 3 (ipykernel)",
   "language": "python",
   "name": "python3"
  },
  "language_info": {
   "codemirror_mode": {
    "name": "ipython",
    "version": 3
   },
   "file_extension": ".py",
   "mimetype": "text/x-python",
   "name": "python",
   "nbconvert_exporter": "python",
   "pygments_lexer": "ipython3",
   "version": "3.9.18"
  }
 },
 "nbformat": 4,
 "nbformat_minor": 5
}
