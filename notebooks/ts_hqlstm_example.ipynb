{
 "cells": [
  {
   "cell_type": "markdown",
   "id": "142dab1a",
   "metadata": {},
   "source": [
    "# Welcome to TQ42\n",
    "\n",
    "## Example of Hybrid Quantum Long Short-Term Memory (HQLSTM)"
   ]
  },
  {
   "cell_type": "code",
   "execution_count": null,
   "id": "4343f18c",
   "metadata": {},
   "outputs": [],
   "source": [
    "from tq42.client import TQ42Client\n",
    "from tq42.organization import list_all as list_all_organizations\n",
    "from tq42.project import list_all as list_all_projects\n",
    "from tq42.experiment import list_all as list_all_experiments\n",
    "from tq42.experiment_run import ExperimentRun\n",
    "from tq42.compute import HardwareProto\n",
    "from tq42.algorithm import (\n",
    "    AlgorithmProto, \n",
    "    OptimProto, \n",
    "    LossFuncProto, \n",
    "    DatasetStorageInfoProto, \n",
    "    TSHQLSTMTrainMetadataProto, \n",
    "    TSHQLSTMTrainParametersProto,\n",
    "    MLTrainInputsProto\n",
    ")\n",
    "from google.protobuf.json_format import MessageToDict"
   ]
  },
  {
   "cell_type": "markdown",
   "id": "a04e4d92",
   "metadata": {},
   "source": [
    "# Create a client and selecting org, proj and exp"
   ]
  },
  {
   "cell_type": "code",
   "execution_count": null,
   "id": "41700bbe",
   "metadata": {
    "jupyter": {
     "outputs_hidden": false
    }
   },
   "outputs": [],
   "source": [
    "with TQ42Client() as client:\n",
    "    org_sample = list_all_organizations(client=client)[0] \n",
    "    proj_sample = list_all_projects(client=client, organization_id=org_sample.id)[0]\n",
    "    exp_sample = list_all_experiments(client=client, project_id=proj_sample.id)[-1]"
   ]
  },
  {
   "cell_type": "code",
   "execution_count": null,
   "id": "3f3af785",
   "metadata": {},
   "outputs": [],
   "source": [
    "    print(f\"Running experiment within: Org {org_sample.id}, Proj {proj_sample.id} and Exp {exp_sample.id}`\")"
   ]
  },
  {
   "cell_type": "markdown",
   "id": "50001052",
   "metadata": {},
   "source": [
    "# Set parameters for the train"
   ]
  },
  {
   "cell_type": "code",
   "execution_count": null,
   "id": "eb39e5e9",
   "metadata": {},
   "outputs": [],
   "source": [
    "    parameters_train = MessageToDict(TSHQLSTMTrainMetadataProto(\n",
    "        parameters=TSHQLSTMTrainParametersProto(\n",
    "            input_width=1,\n",
    "            label_width=1,\n",
    "            hidden_size=17,\n",
    "            num_qubits=8,\n",
    "            depth=7,\n",
    "            n_qlayers=3,\n",
    "            dropout_coef=0.24,\n",
    "            num_epochs=5,\n",
    "            batch_size=20,\n",
    "            learning_rate=0.05,\n",
    "            optim=OptimProto.ADAM,\n",
    "            loss_func=LossFuncProto.MSE,\n",
    "            time_column=\"Time\",\n",
    "            target_column=\"Power, kW\"\n",
    "        ),\n",
    "        inputs=MLTrainInputsProto(\n",
    "            data=DatasetStorageInfoProto(storage_id=\"ENTER_DATASET_STORAGE_ID_HERE\")\n",
    "        )\n",
    "    ), preserving_proto_field_name=True)"
   ]
  },
  {
   "cell_type": "markdown",
   "id": "c0766bef",
   "metadata": {},
   "source": [
    "# Train the model"
   ]
  },
  {
   "cell_type": "code",
   "execution_count": null,
   "id": "97694501",
   "metadata": {},
   "outputs": [],
   "source": [
    "    run = ExperimentRun.create(\n",
    "        client=client,\n",
    "        algorithm=AlgorithmProto.TS_HQLSTM_TRAIN, \n",
    "        experiment_id=exp_sample.id,\n",
    "        compute=HardwareProto.SMALL, \n",
    "        parameters=parameters_train\n",
    "    )\n",
    "    \n",
    "    print(run.data)"
   ]
  },
  {
   "cell_type": "markdown",
   "id": "e48cad63",
   "metadata": {},
   "source": [
    "# Import functions for the evaluate"
   ]
  },
  {
   "cell_type": "code",
   "execution_count": null,
   "id": "37e2645e",
   "metadata": {},
   "outputs": [],
   "source": [
    "from tq42.algorithm import (\n",
    "    TSHQLSTMEvalMetadataProto,\n",
    "    TSHQLSTMEvalParametersProto,\n",
    "    TSEvalInputsProto,\n",
    "    ModelStorageInfoProto\n",
    ")"
   ]
  },
  {
   "cell_type": "markdown",
   "id": "7d0ade2a",
   "metadata": {},
   "source": [
    "# Set parameters for the evaluate"
   ]
  },
  {
   "cell_type": "code",
   "execution_count": null,
   "id": "030b1668",
   "metadata": {},
   "outputs": [],
   "source": [
    "params_eval = MessageToDict(TSHQLSTMEvalMetadataProto(\n",
    "    parameters = TSHQLSTMEvalParametersProto(\n",
    "        input_width=1,\n",
    "        label_width=1,\n",
    "        hidden_size=17,\n",
    "        num_qubits=8,\n",
    "        depth=7,\n",
    "        n_qlayers=3,\n",
    "        dropout_coef=0.24,\n",
    "        time_column=\"Time\",\n",
    "    ),\n",
    "    inputs=TSEvalInputsProto(\n",
    "        model=ModelStorageInfoProto(storage_id=\"MODEL_BUCKET_STORAGE_ID\"),\n",
    "        data=DatasetStorageInfoProto(storage_id=\"DATA_BUCKET_STORAGE_ID\")\n",
    "    )  \n",
    "), preserving_proto_field_name=True)"
   ]
  },
  {
   "cell_type": "markdown",
   "id": "964daf6b",
   "metadata": {},
   "source": [
    "# Evaluate the model"
   ]
  },
  {
   "cell_type": "code",
   "execution_count": null,
   "id": "192cd2c6",
   "metadata": {},
   "outputs": [],
   "source": [
    "with TQ42Client() as client:\n",
    "    run = ExperimentRun.create(\n",
    "        client=client,\n",
    "        algorithm=AlgorithmProto.TS_HQLSTM_EVAL,\n",
    "        experiment_id=exp_sample.id,\n",
    "        compute=HardwareProto.SMALL,\n",
    "        parameters=params_eval\n",
    "    )\n",
    "    print(run.data)"
   ]
  }
 ],
 "metadata": {
  "kernelspec": {
   "display_name": "Python 3 (ipykernel)",
   "language": "python",
   "name": "python3"
  },
  "language_info": {
   "codemirror_mode": {
    "name": "ipython",
    "version": 3
   },
   "file_extension": ".py",
   "mimetype": "text/x-python",
   "name": "python",
   "nbconvert_exporter": "python",
   "pygments_lexer": "ipython3",
   "version": "3.9.19"
  }
 },
 "nbformat": 4,
 "nbformat_minor": 5
}
