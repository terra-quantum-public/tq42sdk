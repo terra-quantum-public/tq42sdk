{
 "cells": [
  {
   "cell_type": "markdown",
   "id": "30a9fe3b-bf21-43a9-93e1-7be7bc086fa6",
   "metadata": {},
   "source": [
    "# Welcome to TQ42\n",
    "\n",
    "## Example of Hybrid Quantum Long Short-Term Memory (HQLSTM)"
   ]
  },
  {
   "cell_type": "code",
   "execution_count": 12,
   "id": "bf7c0de1-c5e4-46eb-a0d1-dbe6eb8585e0",
   "metadata": {},
   "outputs": [],
   "source": [
    "from tq42.client import TQ42Client\n",
    "from tq42.organization import list_all as list_all_organizations\n",
    "from tq42.project import list_all as list_all_projects\n",
    "from tq42.experiment import list_all as list_all_experiments\n",
    "from tq42.experiment_run import ExperimentRun\n",
    "from tq42.compute import HardwareProto\n",
    "from tq42.algorithm import (\n",
    "    AlgorithmProto, \n",
    "    OptimProto, \n",
    "    LossFuncProto, \n",
    "    DatasetStorageInfoProto, \n",
    "    TSHQLSTMTrainMetadataProto, \n",
    "    TSHQLSTMTrainParametersProto,\n",
    "    MLTrainInputsProto\n",
    ")\n",
    "from google.protobuf.json_format import MessageToDict"
   ]
  },
  {
   "cell_type": "markdown",
   "id": "16e97c79-fe6f-4638-8583-97dac10e2b23",
   "metadata": {},
   "source": [
    "# Create a client and selecting org, proj and exp"
   ]
  },
  {
   "cell_type": "code",
   "outputs": [],
   "source": [
    "with TQ42Client() as client:\n",
    "    org_sample = list_all_organizations(client=client)[0] \n",
    "    proj_sample = list_all_projects(client=client, organization_id=org_sample.id)[0]\n",
    "    exp_sample = list_all_experiments(client=client, project_id=proj_sample.id)[-1]"
   ],
   "metadata": {
    "collapsed": false
   },
   "id": "df2f2499b8676aef"
  },
  {
   "cell_type": "code",
   "execution_count": 13,
   "id": "1e2c2381-bed3-4e2b-9e00-48db34e49a95",
   "metadata": {},
   "outputs": [
    {
     "name": "stdout",
     "output_type": "stream",
     "text": [
      "<tq42.project.Project object at 0x1086cad90>\n",
      "<tq42.organization.Organization object at 0x108286520>\n",
      "<tq42.experiment.Experiment object at 0x108278cd0>\n"
     ]
    }
   ],
   "source": [
    "    print(f\"Running experiment within: Org {org_sample.id}, Proj {proj_sample.id} and Exp {exp_sample.id}`\")"
   ]
  },
  {
   "cell_type": "markdown",
   "id": "c409982c-a32d-44eb-82b3-7f18cb4022ce",
   "metadata": {},
   "source": [
    "# Set parameters for the train"
   ]
  },
  {
   "cell_type": "code",
   "execution_count": 14,
   "id": "4d3acb6a-33a0-4cf4-b9bc-ecb038960f7d",
   "metadata": {},
   "outputs": [],
   "source": [
    "    parameters_train = MessageToDict(TSHQLSTMTrainMetadataProto(\n",
    "        parameters=TSHQLSTMTrainParametersProto(\n",
    "            input_width=1,\n",
    "            label_width=1,\n",
    "            hidden_size=17,\n",
    "            num_qubits=8,\n",
    "            depth=7,\n",
    "            n_qlayers=3,\n",
    "            dropout_coef=0.24,\n",
    "            num_epochs=5,\n",
    "            batch_size=20,\n",
    "            learning_rate=0.05,\n",
    "            optim=OptimProto.ADAM,\n",
    "            loss_func=LossFuncProto.MSE,\n",
    "            time_column=\"Time\",\n",
    "            target_column=\"Power, kW\"\n",
    "        ),\n",
    "        inputs=MLTrainInputsProto(\n",
    "            data=DatasetStorageInfoProto(storage_id=\"fc4310c5-a2a3-43cd-990c-8dd2b1aec994\")\n",
    "        )\n",
    "    ), preserving_proto_field_name=True)"
   ]
  },
  {
   "cell_type": "markdown",
   "id": "407d57f4-a139-4d3c-ad99-f77fcb0cf9ae",
   "metadata": {},
   "source": [
    "# Train the model"
   ]
  },
  {
   "cell_type": "code",
   "execution_count": 15,
   "id": "169fadb5-49f6-4f5b-97a6-3268db5b78c3",
   "metadata": {},
   "outputs": [
    {
     "name": "stdout",
     "output_type": "stream",
     "text": [
      "id: \"640ec1a4-2f1f-4a1f-bec7-fbeaa5c0d06d\"\n",
      "experiment_id: \"811fd59b-2b51-42ea-b573-b5aebb0d5d7a\"\n",
      "sequential_id: 26\n",
      "status: QUEUED\n",
      "algorithm: TS_HQLSTM_TRAIN\n",
      "hardware: SMALL\n",
      "metadata: \"{\\\"parameters\\\":{\\\"input_width\\\":1,\\\"label_width\\\":1,\\\"hidden_size\\\":17,\\\"num_qubits\\\":8,\\\"depth\\\":7,\\\"dropout_coef\\\":0.24,\\\"num_epochs\\\":5,\\\"batch_size\\\":20,\\\"learning_rate\\\":0.05,\\\"optim\\\":\\\"ADAM\\\",\\\"loss_func\\\":\\\"MSE\\\",\\\"train_model_info\\\":null,\\\"nqlayers\\\":3},\\\"inputs\\\":{\\\"data\\\":{\\\"storage_id\\\":\\\"fc4310c5-a2a3-43cd-990c-8dd2b1aec994\\\"}}}\"\n",
      "result {\n",
      "}\n",
      "created_by: \"35dc8cba-b06d-4f15-b9bc-588f608789de\"\n",
      "created_at {\n",
      "  seconds: 1705664553\n",
      "  nanos: 50279143\n",
      "}\n"
     ]
    }
   ],
   "source": [
    "    run = ExperimentRun.create(\n",
    "        client=client,\n",
    "        algorithm=AlgorithmProto.TS_HQLSTM_TRAIN, \n",
    "        experiment_id=exp_sample.id,\n",
    "        compute=HardwareProto.SMALL, \n",
    "        parameters=parameters_train\n",
    "    )\n",
    "    \n",
    "    print(run.data)"
   ]
  },
  {
   "cell_type": "markdown",
   "id": "b0b2b311-b549-4a54-bd70-ca95e353f29c",
   "metadata": {},
   "source": [
    "# Import functions for the evaluate"
   ]
  },
  {
   "cell_type": "code",
   "execution_count": 16,
   "id": "417ae287-2af1-41e2-bb3e-cc4c17d2410c",
   "metadata": {},
   "outputs": [],
   "source": [
    "from tq42.algorithm import (\n",
    "    TSHQLSTMEvalMetadataProto,\n",
    "    TSHQLSTMEvalParametersProto,\n",
    "    TSEvalInputsProto,\n",
    "    ModelStorageInfoProto\n",
    ")"
   ]
  },
  {
   "cell_type": "markdown",
   "id": "ade33973-38b3-41e2-881a-0c8c7e4e8e7f",
   "metadata": {},
   "source": [
    "# Set parameters for the evaluate"
   ]
  },
  {
   "cell_type": "code",
   "execution_count": 17,
   "id": "c2565e58-b31b-4b32-8fc7-b33953c6787f",
   "metadata": {},
   "outputs": [],
   "source": [
    "params_eval = MessageToDict(TSHQLSTMEvalMetadataProto(\n",
    "    parameters = TSHQLSTMEvalParametersProto(\n",
    "        input_width=1,\n",
    "        label_width=1,\n",
    "        hidden_size=17,\n",
    "        num_qubits=8,\n",
    "        depth=7,\n",
    "        n_qlayers=3,\n",
    "        dropout_coef=0.24,\n",
    "        time_column=\"Time\",\n",
    "    ),\n",
    "    inputs=TSEvalInputsProto(\n",
    "        model=ModelStorageInfoProto(storage_id=\"MODEL_BUCKET_STORAGE_ID\"),\n",
    "        data=DatasetStorageInfoProto(storage_id=\"DATA_BUCKET_STORAGE_ID\")\n",
    "    )  \n",
    "), preserving_proto_field_name=True)"
   ]
  },
  {
   "cell_type": "markdown",
   "id": "33ec2ddc-b443-4a35-810a-060e98c84b5f",
   "metadata": {},
   "source": [
    "# Evaluate the model"
   ]
  },
  {
   "cell_type": "code",
   "execution_count": 18,
   "id": "e84543c0-2810-401b-a865-53a764876981",
   "metadata": {},
   "outputs": [
    {
     "name": "stdout",
     "output_type": "stream",
     "text": [
      "id: \"5e799d86-6ee9-4c90-99bd-5ffb2a3d368a\"\n",
      "experiment_id: \"811fd59b-2b51-42ea-b573-b5aebb0d5d7a\"\n",
      "sequential_id: 27\n",
      "status: QUEUED\n",
      "algorithm: TS_HQLSTM_EVAL\n",
      "hardware: SMALL\n",
      "metadata: \"{\\\"parameters\\\":{\\\"input_width\\\":1,\\\"label_width\\\":1,\\\"hidden_size\\\":17,\\\"num_qubits\\\":8,\\\"depth\\\":7,\\\"dropout_coef\\\":0.24,\\\"nqlayers\\\":3},\\\"inputs\\\":{\\\"model\\\":{\\\"storage_id\\\":\\\"MODEL_BUCKET_STORAGE_ID\\\"},\\\"data\\\":{\\\"storage_id\\\":\\\"DATA_BUCKET_STORAGE_ID\\\"}}}\"\n",
      "result {\n",
      "}\n",
      "created_by: \"35dc8cba-b06d-4f15-b9bc-588f608789de\"\n",
      "created_at {\n",
      "  seconds: 1705664558\n",
      "  nanos: 249253227\n",
      "}\n"
     ]
    }
   ],
   "source": [
    "with TQ42Client() as client:\n",
    "    run = ExperimentRun.create(\n",
    "        client=client,\n",
    "        algorithm=AlgorithmProto.TS_HQLSTM_EVAL,\n",
    "        experiment_id=exp_sample.id,\n",
    "        compute=HardwareProto.SMALL,\n",
    "        parameters=params_eval\n",
    "    )\n",
    "    print(run.data)"
   ]
  }
 ],
 "metadata": {
  "kernelspec": {
   "display_name": "Python 3 (ipykernel)",
   "language": "python",
   "name": "python3"
  },
  "language_info": {
   "codemirror_mode": {
    "name": "ipython",
    "version": 3
   },
   "file_extension": ".py",
   "mimetype": "text/x-python",
   "name": "python",
   "nbconvert_exporter": "python",
   "pygments_lexer": "ipython3",
   "version": "3.9.18"
  }
 },
 "nbformat": 4,
 "nbformat_minor": 5
}
