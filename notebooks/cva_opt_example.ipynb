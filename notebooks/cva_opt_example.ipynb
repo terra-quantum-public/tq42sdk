{
 "cells": [
  {
   "cell_type": "markdown",
   "id": "7463a182-7838-4909-892a-0be486bd8800",
   "metadata": {},
   "source": [
    "![](../images/TQ42_Logo_Black_Teal.svg)\n",
    "\n",
    "\n",
    "# Welcome to TQ42!\n",
    "\n",
    "## Examples for CVA_OPT\n"
   ]
  },
  {
   "cell_type": "code",
   "execution_count": null,
   "id": "dcd8d3ef-3069-4489-8397-8cba3b3ee769",
   "metadata": {},
   "outputs": [],
   "source": [
    "from tq42.client import TQ42Client\n",
    "from tq42.experiment_run import ExperimentRun\n",
    "from tq42.organization import list_all as list_all_organizations\n",
    "from tq42.project import list_all as list_all_projects\n",
    "from tq42.experiment import list_all as list_all_experiments\n",
    "from tq42.experiment_run import ExperimentRunStatusProto\n",
    "from tq42.algorithm import AlgorithmProto\n",
    "from tq42.compute import HardwareProto\n",
    "import json\n",
    "import pandas"
   ]
  },
  {
   "cell_type": "markdown",
   "id": "c9ed1ab2-279f-4079-8719-c2f2fd18847b",
   "metadata": {},
   "source": [
    "### Get your experiment id by descending the organization, project, experiment hierarchy"
   ]
  },
  {
   "cell_type": "code",
   "execution_count": null,
   "id": "8c4d62de633fd4c1",
   "metadata": {
    "collapsed": false,
    "jupyter": {
     "outputs_hidden": false
    }
   },
   "outputs": [],
   "source": [
    "tq42client = TQ42Client()\n",
    "org_list = list_all_organizations(tq42client)\n",
    "project_list = list_all_projects(client=tq42client, organization_id=org_list[0].id)\n",
    "experiment_list = list_all_experiments(client=tq42client, project_id=project_list[1].id)\n",
    "experiment_id = experiment_list[0].id"
   ]
  },
  {
   "cell_type": "code",
   "execution_count": null,
   "id": "5bbbd0d2-4863-459b-a25f-bf4424fc94d3",
   "metadata": {},
   "outputs": [],
   "source": [
    "print(f\"Running experiment within: Org {org_list[0].id}, Proj {project_list[1].id} and Exp {experiment_id}`\")"
   ]
  },
  {
   "cell_type": "markdown",
   "id": "e968b38b-f7ab-4fcd-acb9-b31568386c8a",
   "metadata": {},
   "source": [
    "### Set your func_eval_worker url\n",
    "CVA_OPT is a black-box optimizer using evolutionary strategies (ES) meaning it does not know anything \n",
    "about the internal structure of the objective function which should be optimized. CVA_OPT sends \n",
    "candidate solutions to a so called function evaluation worker which then answers with \n",
    "the evaluated candidate solutions.\n",
    "\n",
    "Here are some examples for func_eval_worker urls.\n",
    "These examples are based on the python modules OptimizationTestFunctions and pymoo which implement academic test functions."
   ]
  },
  {
   "cell_type": "code",
   "execution_count": null,
   "id": "01045aae-584a-4c7f-99b4-71897224cebc",
   "metadata": {},
   "outputs": [],
   "source": [
    "func_eval_worker_ip = '34.32.169.11'\n",
    "# single-objective optimization\n",
    "func_eval_worker_url_sphere = 'http://' + func_eval_worker_ip + ':8000/test_func_eval/Sphere'\n",
    "# multi-objective optimization\n",
    "func_eval_worker_url_zdt1 = 'http://' + func_eval_worker_ip + ':8000/test_func_eval/ZDT1'"
   ]
  },
  {
   "cell_type": "markdown",
   "id": "4121d8fd-5eda-4b19-92a8-5a3f1a00139b",
   "metadata": {},
   "source": [
    "### Single-objective example sphere function"
   ]
  },
  {
   "cell_type": "markdown",
   "id": "6d08e099-7db7-4bd1-85a5-6835943a4f2b",
   "metadata": {},
   "source": [
    "#### Define your optimization run by setting\n",
    "* objectives\n",
    "* variables\n",
    "* func_eval_worker_url\n",
    "* parameters for CVA_OPT\n"
   ]
  },
  {
   "cell_type": "code",
   "execution_count": null,
   "id": "c91a995b-083e-4049-bf9d-4f75cc742879",
   "metadata": {},
   "outputs": [],
   "source": [
    "cva_params = {}"
   ]
  },
  {
   "cell_type": "markdown",
   "id": "26699b8a-f8ec-448c-83f6-9143f1431a94",
   "metadata": {},
   "source": [
    "##### Objectives\n",
    "* the name of our objective is called like the function itself: Sphere\n",
    "* the aim_type sets if the objective should be minimized (MINIMIZE) of maximized (MAXIMIZE)"
   ]
  },
  {
   "cell_type": "code",
   "execution_count": null,
   "id": "6575a6eb-9f6b-4f29-aeba-52e05cadb0d3",
   "metadata": {},
   "outputs": [],
   "source": [
    "cva_params['objectives'] = [{'name': 'Sphere', 'aim_type':'MINIMIZE'}]"
   ]
  },
  {
   "cell_type": "markdown",
   "id": "ee2ef617-c259-4ada-920b-29426df4f61b",
   "metadata": {},
   "source": [
    "##### Variables\n",
    "Variables have a name and depending of their type lower and upper bounds or possible class values\n",
    "in this example we want to optimize a two dimensional sphere function in the box [-1,1]x[-1,1]"
   ]
  },
  {
   "cell_type": "code",
   "execution_count": null,
   "id": "4951ca40-dc5c-4b1a-a684-55a1d958f704",
   "metadata": {},
   "outputs": [],
   "source": [
    "cva_params['variables'] = []\n",
    "cva_params['variables'].append({'name': 'x1', 'info_real':{'lower_bound':-1.0, 'upper_bound':1.0}})\n",
    "cva_params['variables'].append({'name': 'x2', 'info_real':{'lower_bound':-1.0, 'upper_bound':1.0}})"
   ]
  },
  {
   "cell_type": "markdown",
   "id": "51eec6f2-5586-48fc-9da5-7b3cfd84ad8e",
   "metadata": {},
   "source": [
    "##### func_eval_worker_url\n",
    "We select our url for the sphere function defined above"
   ]
  },
  {
   "cell_type": "code",
   "execution_count": null,
   "id": "823d4035-85fc-47ac-99ee-ffdc1ac7fb9f",
   "metadata": {},
   "outputs": [],
   "source": [
    "cva_params['func_eval_worker_url'] = func_eval_worker_url_sphere"
   ]
  },
  {
   "cell_type": "markdown",
   "id": "4786648e-0bb6-4e59-9015-387e3d90072f",
   "metadata": {},
   "source": [
    "##### Parameters for CVA_OPT"
   ]
  },
  {
   "cell_type": "code",
   "execution_count": null,
   "id": "a692af2c-cc48-45b9-9900-6f20a28795da",
   "metadata": {},
   "outputs": [],
   "source": [
    "cva_params['parameters'] = {}\n",
    "# set the number of generations (iterations)\n",
    "cva_params['parameters']['max_generation'] = 250\n",
    "# set the ES specific parameters mue and lambda\n",
    "cva_params['parameters']['mue'] = 15\n",
    "cva_params['parameters']['lambda'] = 100"
   ]
  },
  {
   "cell_type": "markdown",
   "id": "628d8448-202d-46f1-95e3-06bd15d737f0",
   "metadata": {},
   "source": [
    "Please note that CVA_OPT will use max_generation * lambda many function evaluations, i.e.,\n",
    "50 * 10 = 500 function evaluations to minimize the sphere function."
   ]
  },
  {
   "cell_type": "markdown",
   "id": "2a4f5f37-be09-4d6f-8eda-fd1316cebba3",
   "metadata": {},
   "source": [
    "#### Create an experiment run"
   ]
  },
  {
   "cell_type": "code",
   "execution_count": null,
   "id": "31e66e09-6761-48d1-8580-f4425324a1cd",
   "metadata": {},
   "outputs": [],
   "source": [
    "run = ExperimentRun.create(\n",
    "    client=tq42client, \n",
    "    algorithm=AlgorithmProto.CVA_OPT, \n",
    "    experiment_id=experiment_id,\n",
    "    compute=HardwareProto.SMALL, \n",
    "    parameters={'parameters': cva_params, 'inputs': {} }\n",
    ")"
   ]
  },
  {
   "cell_type": "markdown",
   "id": "bcf70c49-6dbc-4f8e-9bb5-e5514d694280",
   "metadata": {},
   "source": [
    "##### Check its status and store the result once finished"
   ]
  },
  {
   "cell_type": "code",
   "execution_count": null,
   "id": "284e6adb-2b77-455e-9c1a-8dff420a403d",
   "metadata": {},
   "outputs": [],
   "source": [
    "run_result = run.poll()\n",
    "print('status: ' + ExperimentRunStatusProto.Name(run_result.data.status))"
   ]
  },
  {
   "cell_type": "markdown",
   "id": "734f6969-b4be-4ce7-a1ee-a58c04dc6a0e",
   "metadata": {},
   "source": [
    "##### Get the result as pandas data frame"
   ]
  },
  {
   "cell_type": "code",
   "execution_count": null,
   "id": "4bd7e1b3-40a0-4aa9-a571-3417d456cace",
   "metadata": {},
   "outputs": [],
   "source": [
    "result_df = pandas.DataFrame(json.loads(getattr(getattr(run_result.data, 'result'), 'result_json'))['logs']['result'])\n",
    "result_df"
   ]
  },
  {
   "cell_type": "markdown",
   "id": "9a2df024-9a20-4443-90d4-c1e3c189d419",
   "metadata": {},
   "source": [
    "### Multi-objective example ZDT1 function"
   ]
  },
  {
   "cell_type": "code",
   "execution_count": null,
   "id": "ac4f8761-3be1-4d12-9013-e53fd3b8baa5",
   "metadata": {},
   "outputs": [],
   "source": [
    "cva_params = {}"
   ]
  },
  {
   "cell_type": "markdown",
   "id": "a19db4fe-7f10-4149-8f93-04a81919808f",
   "metadata": {},
   "source": [
    "##### Set the two objectives"
   ]
  },
  {
   "cell_type": "code",
   "execution_count": null,
   "id": "157db67b-73f6-4e39-b580-8810822629ab",
   "metadata": {},
   "outputs": [],
   "source": [
    "cva_params['objectives'] = []\n",
    "cva_params['objectives'].append({'name': 'ZDT1_1', 'aim_type':'MINIMIZE'})\n",
    "cva_params['objectives'].append({'name': 'ZDT1_2', 'aim_type':'MINIMIZE'})"
   ]
  },
  {
   "cell_type": "markdown",
   "id": "7d8fc211-0c78-4259-bb98-79811702f52b",
   "metadata": {},
   "source": [
    "##### Define the input variables. ZDT1 has 30 input variables (all with lower bound 0.0 and upper bound 1.0), so we define them in a for loop."
   ]
  },
  {
   "cell_type": "code",
   "execution_count": null,
   "id": "7829cc38-7ff4-4ae4-9c94-88621a154589",
   "metadata": {},
   "outputs": [],
   "source": [
    "cva_params['variables'] = []\n",
    "for i in range(30):\n",
    "    cva_params['variables'].append({'name': 'x'+str(i+1), 'info_real': {'lower_bound': 0.0, 'upper_bound': 1.0}})"
   ]
  },
  {
   "cell_type": "markdown",
   "id": "ae338858-1aaf-4632-9f84-68aa08a03857",
   "metadata": {},
   "source": [
    "##### Set the func_eval_worker url"
   ]
  },
  {
   "cell_type": "code",
   "execution_count": null,
   "id": "97de8d12-3719-4756-aac2-151c874870b1",
   "metadata": {},
   "outputs": [],
   "source": [
    "cva_params['func_eval_worker_url'] = func_eval_worker_url_zdt1"
   ]
  },
  {
   "cell_type": "markdown",
   "id": "03e8e365-0df8-4cb0-93ab-92245e35c473",
   "metadata": {},
   "source": [
    "##### Set CVA_OPT parameters\n",
    "The result of a multi-objective optimization consists of a Pareto front which is harder to derive than a solution in the single-objective case. So, we want to spend more function evaluations, in this case 25000 function evaluations by setting max_generation to 250 and lambda to 100."
   ]
  },
  {
   "cell_type": "code",
   "execution_count": null,
   "id": "c84dfcc9-5d6e-4268-b980-dccbfe6570f3",
   "metadata": {},
   "outputs": [],
   "source": [
    "cva_params['parameters'] = {'max_generation': 250, 'mue': 15, 'lambda': 100}"
   ]
  },
  {
   "cell_type": "markdown",
   "id": "e3edbcba-1267-4ebf-b5f5-b855e85bd26b",
   "metadata": {},
   "source": [
    "#### Create an experiment run"
   ]
  },
  {
   "cell_type": "code",
   "execution_count": null,
   "id": "79c33188-a105-4589-a61e-0675ee35dd1d",
   "metadata": {},
   "outputs": [],
   "source": [
    "run = ExperimentRun.create(\n",
    "    client=tq42client, \n",
    "    algorithm=AlgorithmProto.CVA_OPT, \n",
    "    experiment_id=experiment_id,\n",
    "    compute=HardwareProto.SMALL, \n",
    "    parameters={'parameters': cva_params, 'inputs': {} }\n",
    ")"
   ]
  },
  {
   "cell_type": "markdown",
   "id": "b812f0d6-19db-4f26-8521-d1d3b14b1003",
   "metadata": {},
   "source": [
    "##### Check its status and store the result once finished"
   ]
  },
  {
   "cell_type": "code",
   "execution_count": null,
   "id": "a93e912a-5a6b-4855-a3f2-3c1c7f327e59",
   "metadata": {},
   "outputs": [],
   "source": [
    "run_result = run.poll()\n",
    "print('status: ' + ExperimentRunStatusProto.Name(run_result.data.status))"
   ]
  },
  {
   "cell_type": "markdown",
   "id": "28e2798e-7a20-498f-a6be-b2351ee73033",
   "metadata": {},
   "source": [
    "##### Get the result as pandas data frame and plot the Pareto front"
   ]
  },
  {
   "cell_type": "code",
   "execution_count": null,
   "id": "3ee55c78-21ef-4a35-9973-9c23436f7490",
   "metadata": {},
   "outputs": [],
   "source": [
    "result_df = pandas.DataFrame(json.loads(getattr(getattr(run_result.data, 'result'), 'result_json'))['logs']['result'])\n",
    "result_df.plot.scatter('ZDT1_1', 'ZDT1_2')"
   ]
  },
  {
   "cell_type": "code",
   "execution_count": null,
   "id": "3d8bcab3-f581-4794-8245-7552752163e0",
   "metadata": {},
   "outputs": [],
   "source": []
  }
 ],
 "metadata": {
  "kernelspec": {
   "display_name": "tq42",
   "language": "python",
   "name": "tq42"
  },
  "language_info": {
   "codemirror_mode": {
    "name": "ipython",
    "version": 3
   },
   "file_extension": ".py",
   "mimetype": "text/x-python",
   "name": "python",
   "nbconvert_exporter": "python",
   "pygments_lexer": "ipython3",
   "version": "3.12.1"
  }
 },
 "nbformat": 4,
 "nbformat_minor": 5
}
