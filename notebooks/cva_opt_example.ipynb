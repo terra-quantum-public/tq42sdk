{
 "cells": [
  {
   "cell_type": "markdown",
   "id": "7463a182-7838-4909-892a-0be486bd8800",
   "metadata": {},
   "source": [
    "![](../images/TQ42_Banner.png)\n",
    "\n",
    "\n",
    "# Welcome to TQ42!\n",
    "\n",
    "## Example how to use channels with CVA_OPT\n"
   ]
  },
  {
   "cell_type": "code",
   "execution_count": null,
   "id": "dcd8d3ef-3069-4489-8397-8cba3b3ee769",
   "metadata": {},
   "outputs": [],
   "source": [
    "from tq42.client import TQ42Client\n",
    "from tq42.experiment_run import ExperimentRun\n",
    "from tq42.organization import list_all as list_all_organizations\n",
    "from tq42.project import list_all as list_all_projects\n",
    "from tq42.experiment import list_all as list_all_experiments\n",
    "from tq42.experiment_run import ExperimentRunStatusProto\n",
    "from tq42.algorithm import AlgorithmProto\n",
    "from tq42.compute import HardwareProto\n",
    "import json\n",
    "import pandas\n",
    "import asyncio\n",
    "import numpy as np\n",
    "from tq42.channel import Channel, Ask, Tell\n",
    "import OptimizationTestFunctions as otf"
   ]
  },
  {
   "cell_type": "markdown",
   "id": "c9ed1ab2-279f-4079-8719-c2f2fd18847b",
   "metadata": {},
   "source": [
    "### Get your experiment id by descending the organization, project, experiment hierarchy"
   ]
  },
  {
   "cell_type": "code",
   "execution_count": null,
   "id": "8c4d62de633fd4c1",
   "metadata": {
    "collapsed": false,
    "jupyter": {
     "outputs_hidden": false
    }
   },
   "outputs": [],
   "source": [
    "tq42client = TQ42Client()\n",
    "tq42client.login()\n",
    "org_list = list_all_organizations(tq42client)\n",
    "project_list = list_all_projects(client=tq42client, organization_id=org_list[0].id)\n",
    "experiment_list = list_all_experiments(client=tq42client, project_id=project_list[0].id)\n",
    "experiment_id = experiment_list[0].id"
   ]
  },
  {
   "cell_type": "code",
   "execution_count": null,
   "id": "5bbbd0d2-4863-459b-a25f-bf4424fc94d3",
   "metadata": {},
   "outputs": [],
   "source": [
    "print(f\"Running experiment within: Org {org_list[0].id}, Proj {project_list[0].id} and Exp {experiment_id}`\")"
   ]
  },
  {
   "cell_type": "markdown",
   "id": "4121d8fd-5eda-4b19-92a8-5a3f1a00139b",
   "metadata": {},
   "source": [
    "### Single-objective example Rosenbrock function"
   ]
  },
  {
   "cell_type": "markdown",
   "id": "6d08e099-7db7-4bd1-85a5-6835943a4f2b",
   "metadata": {},
   "source": [
    "#### Define your optimization run by setting\n",
    "* objectives\n",
    "* variables\n",
    "* parameters for CVA_OPT\n",
    "* set up channel and callback function"
   ]
  },
  {
   "cell_type": "code",
   "execution_count": null,
   "id": "c91a995b-083e-4049-bf9d-4f75cc742879",
   "metadata": {},
   "outputs": [],
   "source": [
    "cva_params = {}"
   ]
  },
  {
   "cell_type": "markdown",
   "id": "26699b8a-f8ec-448c-83f6-9143f1431a94",
   "metadata": {},
   "source": [
    "##### Objectives\n",
    "* the name of our objective is called like the function itself: Sphere\n",
    "* the aim_type sets if the objective should be minimized (MINIMIZE) of maximized (MAXIMIZE)"
   ]
  },
  {
   "cell_type": "code",
   "execution_count": null,
   "id": "6575a6eb-9f6b-4f29-aeba-52e05cadb0d3",
   "metadata": {},
   "outputs": [],
   "source": [
    "cva_params['objectives'] = [{'name': 'Rosenbrock', 'aim_type':'MINIMIZE'}]"
   ]
  },
  {
   "cell_type": "markdown",
   "id": "ee2ef617-c259-4ada-920b-29426df4f61b",
   "metadata": {},
   "source": [
    "##### Variables\n",
    "Variables have a name and depending of their type lower and upper bounds or possible class values\n",
    "in this example we want to optimize a two dimensional sphere function in the box [-1,1]x[-1,1]"
   ]
  },
  {
   "cell_type": "code",
   "execution_count": null,
   "id": "4951ca40-dc5c-4b1a-a684-55a1d958f704",
   "metadata": {},
   "outputs": [],
   "source": [
    "cva_params['variables'] = []\n",
    "cva_params['variables'].append({'name': 'x1', 'info_real':{'lower_bound':-1.0, 'upper_bound':1.0}})\n",
    "cva_params['variables'].append({'name': 'x2', 'info_real':{'lower_bound':-1.0, 'upper_bound':1.0}})"
   ]
  },
  {
   "cell_type": "markdown",
   "id": "4786648e-0bb6-4e59-9015-387e3d90072f",
   "metadata": {},
   "source": [
    "##### Parameters for CVA_OPT"
   ]
  },
  {
   "cell_type": "code",
   "execution_count": null,
   "id": "a692af2c-cc48-45b9-9900-6f20a28795da",
   "metadata": {},
   "outputs": [],
   "source": [
    "cva_params['parameters'] = {}\n",
    "# set the number of generations (iterations)\n",
    "cva_params['parameters']['max_generation'] = 50\n",
    "# set the ES specific parameters mue and lambda\n",
    "cva_params['parameters']['mue'] = 2\n",
    "cva_params['parameters']['lambda'] = 10"
   ]
  },
  {
   "cell_type": "markdown",
   "id": "628d8448-202d-46f1-95e3-06bd15d737f0",
   "metadata": {},
   "source": [
    "Please note that CVA_OPT will use max_generation * lambda many function evaluations, i.e.,\n",
    "50 * 10 = 500 function evaluations to minimize the Rosenbrock function."
   ]
  },
  {
   "cell_type": "markdown",
   "id": "e968b38b-f7ab-4fcd-acb9-b31568386c8a",
   "metadata": {},
   "source": [
    "### Set up channel and callback function to evaluate the objective function\n",
    "CVA_OPT is a black-box optimizer using evolutionary strategies (ES) meaning it does not know anything \n",
    "about the internal structure of the objective function which should be optimized. CVA_OPT sends \n",
    "candidate solutions to a so called channel implementing an ask and tell interface with a callback function. The channel sends the candidate solutions. There are evaluated by the callback function, i.e., assigning for each candidate the objective value. Then CVA_OPT reads the result from the channel and the next iteration is started."
   ]
  },
  {
   "cell_type": "markdown",
   "id": "2a4f5f37-be09-4d6f-8eda-fd1316cebba3",
   "metadata": {},
   "source": [
    "#### Define a function to run an experiment with channel\n"
   ]
  },
  {
   "cell_type": "code",
   "execution_count": null,
   "id": "31e66e09-6761-48d1-8580-f4425324a1cd",
   "metadata": {},
   "outputs": [],
   "source": [
    "async def run_exp_with_channel(client, experiment_id, cva_params):\n",
    "    # set up channel\n",
    "    channel = await Channel.create(client=client)\n",
    "    # extend cva_params with func_eval_worker_channel_id\n",
    "    cva_params['func_eval_worker_channel_id'] = channel.id\n",
    "    \n",
    "    # create the experiment run\n",
    "    run = ExperimentRun.create(\n",
    "        client=client, \n",
    "        algorithm=AlgorithmProto.CVA_OPT, \n",
    "        experiment_id=experiment_id,\n",
    "        compute=HardwareProto.SMALL,\n",
    "        parameters={'parameters': cva_params, 'inputs': {} }\n",
    "    )\n",
    "    print(f\" starting run with id {run.id}\")\n",
    "\n",
    "    # define the callback function\n",
    "    async def callback(ask: Ask) -> Tell:\n",
    "        dim = len(ask.headers)\n",
    "        func = otf.Rosenbrock(dim)\n",
    "        y = []\n",
    "        for parameter in ask.parameters:\n",
    "            y.append(float(func(np.array(parameter.values))))\n",
    "        # add result to data\n",
    "\n",
    "        return Tell(\n",
    "            parameters=ask.parameters,\n",
    "            headers=ask.headers,\n",
    "            results=y\n",
    "        )\n",
    "    # define a function to be called after the optimization is finished\n",
    "    def success():\n",
    "        pass\n",
    "\n",
    "    # let the channel wait for connections\n",
    "    is_finished = False\n",
    "    max_retries = 10\n",
    "    retries = 0\n",
    "    while (not is_finished) and (retries < max_retries):\n",
    "        await channel.connect(\n",
    "                callback=callback,\n",
    "                finish_callback=success,\n",
    "                max_duration_in_sec=None,\n",
    "                message_timeout_in_sec=120\n",
    "            )\n",
    "        retries += 1\n",
    "        run_state = run.check().data.status\n",
    "        if ExperimentRunStatusProto.Name(run_state) in ['CANCELLED', 'COMPLETED', 'FAILED', 'CANCEL_PENDING']:\n",
    "            is_finished = True\n",
    "        else:\n",
    "            print('run is in state ' + ExperimentRunStatusProto.Name(run_state) + ', continuing')\n",
    "    # return the run to retrieve the result    \n",
    "    return run"
   ]
  },
  {
   "cell_type": "code",
   "execution_count": null,
   "id": "2cc585dd-fb92-4f7e-aca0-a9dfb4e0e3ee",
   "metadata": {},
   "outputs": [],
   "source": [
    "run = await run_exp_with_channel(tq42client, experiment_id, cva_params)"
   ]
  },
  {
   "cell_type": "markdown",
   "id": "bcf70c49-6dbc-4f8e-9bb5-e5514d694280",
   "metadata": {},
   "source": [
    "##### Get the result"
   ]
  },
  {
   "cell_type": "code",
   "execution_count": null,
   "id": "284e6adb-2b77-455e-9c1a-8dff420a403d",
   "metadata": {},
   "outputs": [],
   "source": [
    "run_result = run.poll()\n",
    "print('status: ' + ExperimentRunStatusProto.Name(run_result.data.status))"
   ]
  },
  {
   "cell_type": "markdown",
   "id": "734f6969-b4be-4ce7-a1ee-a58c04dc6a0e",
   "metadata": {},
   "source": [
    "##### Print the result as pandas data frame"
   ]
  },
  {
   "cell_type": "code",
   "execution_count": null,
   "id": "4bd7e1b3-40a0-4aa9-a571-3417d456cace",
   "metadata": {},
   "outputs": [],
   "source": [
    "result_df = pandas.DataFrame(json.loads(json.loads(getattr(getattr(run_result.data, 'result'), 'result_json'))['result'])['result'])\n",
    "result_df"
   ]
  },
  {
   "cell_type": "code",
   "execution_count": null,
   "id": "787a1bfe-3079-4358-9e67-5320a51e3309",
   "metadata": {},
   "outputs": [],
   "source": []
  }
 ],
 "metadata": {
  "kernelspec": {
   "display_name": "Python 3 (ipykernel)",
   "language": "python",
   "name": "python3"
  },
  "language_info": {
   "codemirror_mode": {
    "name": "ipython",
    "version": 3
   },
   "file_extension": ".py",
   "mimetype": "text/x-python",
   "name": "python",
   "nbconvert_exporter": "python",
   "pygments_lexer": "ipython3",
   "version": "3.9.18"
  }
 },
 "nbformat": 4,
 "nbformat_minor": 5
}
