{
 "cells": [
  {
   "cell_type": "markdown",
   "id": "f61e17f3-7b1b-4898-b8d3-9e5a8e2320ec",
   "metadata": {},
   "source": [
    "# Welcome to TQ42\n",
    "\n",
    "## Example of training a generic time series Neural Network"
   ]
  },
  {
   "cell_type": "code",
   "execution_count": null,
   "id": "bf7c0de1-c5e4-46eb-a0d1-dbe6eb8585e0",
   "metadata": {},
   "outputs": [],
   "source": [
    "#Import Packages\n",
    "from tq42.client import TQ42Client\n",
    "from tq42.organization import list_all as list_all_organizations\n",
    "from tq42.project import list_all as list_all_projects\n",
    "from tq42.experiment import list_all as list_all_experiments\n",
    "from tq42.experiment_run import ExperimentRun\n",
    "from tq42.compute import HardwareProto\n",
    "\n",
    "from tq42.algorithm import (\n",
    "    OptimProto, \n",
    "    LossFuncProto, \n",
    "    DatasetStorageInfoProto, \n",
    "    ActFuncProto,\n",
    "    GenericMLTrainMetadataProto,\n",
    "    GenericMLTrainParametersProto,\n",
    "    Layer,\n",
    "    PQNLayer,\n",
    "    ClassicalDenseLayer,\n",
    "    MLModelType,\n",
    "    ActivationFunctionLayer,\n",
    "    ActFuncProto,\n",
    "    DropoutLayer,\n",
    "    BatchNormalizationLayer,\n",
    "    TrainModelInfoProto,\n",
    "    MLTrainInputsProto,\n",
    "    AlgorithmProto,\n",
    "    MeasurementModeProto,\n",
    "    MeasureProto,\n",
    "    EntanglingProto,\n",
    "    DiffMethodProto,\n",
    "    QubitTypeProto,\n",
    "    ClassicalLSTMLayer,\n",
    "    QLSTMLayer,\n",
    ")\n",
    "\n",
    "from google.protobuf.json_format import MessageToDict"
   ]
  },
  {
   "cell_type": "markdown",
   "id": "16e97c79-fe6f-4638-8583-97dac10e2b23",
   "metadata": {},
   "source": [
    "# Create a client. Select an Organization, Project and Experiment"
   ]
  },
  {
   "cell_type": "code",
   "execution_count": null,
   "id": "1e2c2381-bed3-4e2b-9e00-48db34e49a95",
   "metadata": {},
   "outputs": [],
   "source": [
    "# Connect to the cloud service\n",
    "# https://terraquantum.io\n",
    "with TQ42Client() as client:\n",
    "    client.login()"
   ]
  },
  {
   "cell_type": "code",
   "execution_count": null,
   "id": "e45aef47-5bb6-4278-a2ed-ecad8fe39f79",
   "metadata": {},
   "outputs": [],
   "source": [
    "# list the organizations available to you \n",
    "for organization in list_all_organizations(client=client):\n",
    "    print (organization.id)"
   ]
  },
  {
   "cell_type": "code",
   "execution_count": null,
   "id": "25a4f40e-544a-42fd-b390-09f673c13a0f",
   "metadata": {},
   "outputs": [],
   "source": [
    "# Select an organization from the list\n",
    "org_selected = list_all_organizations(client=client)[0]\n",
    "print (org_selected.id)"
   ]
  },
  {
   "cell_type": "code",
   "execution_count": null,
   "id": "5467d616-d4bd-47db-b5eb-bef630666fe9",
   "metadata": {},
   "outputs": [],
   "source": [
    "# List the projects within that organization\n",
    "for project in list_all_projects(client=client, organization_id=org_selected.id):\n",
    "    print (project.id)"
   ]
  },
  {
   "cell_type": "code",
   "execution_count": null,
   "id": "c8f459c8-2560-4930-80f8-e655ccdd7da3",
   "metadata": {},
   "outputs": [],
   "source": [
    "# Select a project from the list\n",
    "proj_selected = list_all_projects(client=client, organization_id=org_selected.id)[4]\n",
    "print(proj_selected.id)"
   ]
  },
  {
   "cell_type": "code",
   "execution_count": null,
   "id": "8eefea79-eb74-4293-bd7d-f904578e2827",
   "metadata": {},
   "outputs": [],
   "source": [
    "# List the experiments within that project\n",
    "for experiment in list_all_experiments(client=client, project_id=proj_selected.id):\n",
    "    print (experiment.id)"
   ]
  },
  {
   "cell_type": "code",
   "execution_count": null,
   "id": "1994d6ba-d6f6-4698-b0be-e4df2df9da72",
   "metadata": {},
   "outputs": [],
   "source": [
    "# Select an experiment from the list\n",
    "exp_selected = list_all_experiments(client=client, project_id=proj_selected.id)[0]\n",
    "print(exp_selected.id)"
   ]
  },
  {
   "cell_type": "code",
   "execution_count": null,
   "id": "5d995b2e-3c55-425f-aa5e-e27efd795299",
   "metadata": {},
   "outputs": [],
   "source": []
  },
  {
   "cell_type": "markdown",
   "id": "1f82aeb9-e3af-4a62-bf86-964fe1fb1334",
   "metadata": {},
   "source": [
    "# Build and Train the Neural Network"
   ]
  },
  {
   "cell_type": "markdown",
   "id": "822efd51-fd75-48e4-a573-3cd3a75127fa",
   "metadata": {},
   "source": [
    "### Classical Example"
   ]
  },
  {
   "cell_type": "code",
   "execution_count": null,
   "id": "8c694b3d-e5b0-4389-93f8-55d6454ff8a0",
   "metadata": {},
   "outputs": [],
   "source": [
    "# Build the classical neural network\n",
    "\n",
    "classical_train_message=MessageToDict(GenericMLTrainMetadataProto(\n",
    "    parameters=GenericMLTrainParametersProto(\n",
    "        # Choose model type here\n",
    "        model_type=MLModelType.MLP,\n",
    "        # Add and customize and customize layers here\n",
    "        layers=[\n",
    "            Layer(classical_dense_layer=ClassicalDenseLayer(hidden_size=30, bias=True)),\n",
    "            Layer(classical_dense_layer=ClassicalDenseLayer(hidden_size=45, bias=True)),\n",
    "            Layer(classical_dense_layer=ClassicalDenseLayer(hidden_size=60, bias=True)),\n",
    "            Layer(\n",
    "                activation_function_layer=ActivationFunctionLayer(\n",
    "                    function=ActFuncProto.SIGMOID\n",
    "                )\n",
    "            ),\n",
    "            Layer(dropout_layer=DropoutLayer(value=0.5)),\n",
    "            Layer(batch_normalization_layer=BatchNormalizationLayer()),\n",
    "            Layer(\n",
    "                classical_dense_layer=ClassicalDenseLayer(hidden_size=1, bias=False)\n",
    "            ),  # Final layer, bias=False\n",
    "        ],\n",
    "        num_epochs=5,\n",
    "        batch_size=128,\n",
    "        learning_rate=0.05,\n",
    "        optim=OptimProto.ADAM,\n",
    "        loss_func=LossFuncProto.MSE,\n",
    "        train_model_info=TrainModelInfoProto(\n",
    "            # Provide a unique name to identify your trained model.\n",
    "            name=\"ENTER_MODEL_NAME_HERE\",\n",
    "            # Add a brief description to help users understand the purpose or functionality of this trained model.\n",
    "            description=\"ADD_DESCRIPTION_HERE\",\n",
    "        ),\n",
    "    ),\n",
    "    inputs=MLTrainInputsProto(\n",
    "        # Provide the specific dataset storage ID of the data you uploaded to TQ42.\n",
    "        data=DatasetStorageInfoProto(storage_id=\"ENTER_DATASET_STORAGE_ID_HERE\")\n",
    "    ),\n",
    "),preserving_proto_field_name=True)"
   ]
  },
  {
   "cell_type": "code",
   "execution_count": null,
   "id": "ba06f56a-22f6-4729-a63a-c49452102b17",
   "metadata": {},
   "outputs": [],
   "source": [
    "# Train the classical neural network\n",
    "\n",
    "run = ExperimentRun.create(\n",
    "    client=client,\n",
    "    algorithm=AlgorithmProto.GENERIC_ML_TRAIN, \n",
    "    experiment_id=exp_selected.id,\n",
    "    compute=HardwareProto.SMALL, \n",
    "    parameters=classical_train_message\n",
    ")\n",
    "\n",
    "print(run.data)"
   ]
  },
  {
   "cell_type": "markdown",
   "id": "1aef86da-920c-4d40-a525-156768f99007",
   "metadata": {},
   "source": [
    "### Hybrid Quantum Example"
   ]
  },
  {
   "cell_type": "code",
   "execution_count": null,
   "id": "4332e1b1-e914-4afb-b470-ef851ca866d8",
   "metadata": {},
   "outputs": [],
   "source": [
    "# Build the hybrid quantum neural network\n",
    "\n",
    "hybrid_quantum_train_message=MessageToDict(GenericMLTrainMetadataProto(\n",
    "    parameters=GenericMLTrainParametersProto(\n",
    "        # Choose model type here\n",
    "        model_type=MLModelType.MLP,\n",
    "        # Add and customize and customize layers here\n",
    "        layers=[\n",
    "            Layer(classical_dense_layer=ClassicalDenseLayer(hidden_size=4, bias=True)),\n",
    "            Layer(\n",
    "                activation_function_layer=ActivationFunctionLayer(\n",
    "                    function=ActFuncProto.SIGMOID\n",
    "                )\n",
    "            ),\n",
    "            Layer(classical_dense_layer=ClassicalDenseLayer(hidden_size=4, bias=True)),\n",
    "            Layer(\n",
    "                activation_function_layer=ActivationFunctionLayer(\n",
    "                    function=ActFuncProto.SIGMOID\n",
    "                )\n",
    "            ),\n",
    "            Layer(\n",
    "                pqn_layer=PQNLayer(\n",
    "                    num_qubits=4,\n",
    "                    depth=7,\n",
    "                    measurement_mode=MeasurementModeProto.NONE,\n",
    "                    rotation=MeasureProto.X,\n",
    "                    entangling=EntanglingProto.BASIC,\n",
    "                    measure=MeasureProto.Z,\n",
    "                    diff_method=DiffMethodProto.ADJOINT,\n",
    "                    qubit_type=QubitTypeProto.LIGHTNING_QUBIT,\n",
    "                )\n",
    "            ),\n",
    "            Layer(\n",
    "                activation_function_layer=ActivationFunctionLayer(\n",
    "                    function=ActFuncProto.SIGMOID\n",
    "                )\n",
    "            ),\n",
    "            Layer(classical_dense_layer=ClassicalDenseLayer(hidden_size=1, bias=False)),\n",
    "        ],\n",
    "        num_epochs=5,\n",
    "        batch_size=128,\n",
    "        learning_rate=0.05,\n",
    "        optim=OptimProto.ADAM,\n",
    "        loss_func=LossFuncProto.MSE,\n",
    "        train_model_info=TrainModelInfoProto(\n",
    "            # Provide a unique name to identify your trained model.\n",
    "            name=\"ENTER_MODEL_NAME_HERE\",\n",
    "            # Add a brief description to help users understand the purpose or functionality of this trained model.\n",
    "            description=\"ADD_DESCRIPTION_HERE\",\n",
    "        ),\n",
    "    ),\n",
    "    inputs=MLTrainInputsProto(\n",
    "        # Provide the specific dataset storage ID of the data you uploaded to TQ42.\n",
    "        data=DatasetStorageInfoProto(storage_id=\"ENTER_DATASET_STORAGE_ID_HERE\")\n",
    "    ),\n",
    "),preserving_proto_field_name=True)"
   ]
  },
  {
   "cell_type": "code",
   "execution_count": null,
   "id": "0a0e0fd1-712c-4445-81db-2adb7b2819b0",
   "metadata": {},
   "outputs": [],
   "source": [
    "# Train the hybrid quantum neural network\n",
    "\n",
    "run = ExperimentRun.create(\n",
    "    client=client,\n",
    "    algorithm=AlgorithmProto.GENERIC_ML_TRAIN, \n",
    "    experiment_id=exp_selected.id,\n",
    "    compute=HardwareProto.SMALL, \n",
    "    parameters=hybrid_quantum_train_message\n",
    ")\n",
    "\n",
    "print(run.data)"
   ]
  }
 ],
 "metadata": {
  "kernelspec": {
   "display_name": "Python 3 (ipykernel)",
   "language": "python",
   "name": "python3"
  },
  "language_info": {
   "codemirror_mode": {
    "name": "ipython",
    "version": 3
   },
   "file_extension": ".py",
   "mimetype": "text/x-python",
   "name": "python",
   "nbconvert_exporter": "python",
   "pygments_lexer": "ipython3",
   "version": "3.10.13"
  },
  "vscode": {
   "interpreter": {
    "hash": "4c2ad97c998e2a01cc90ffc8f9f23ae19426f7e6b99947651fa609e98d400e38"
   }
  }
 },
 "nbformat": 4,
 "nbformat_minor": 5
}
