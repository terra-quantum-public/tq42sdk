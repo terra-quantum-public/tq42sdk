{
 "cells": [
  {
   "cell_type": "markdown",
   "id": "b9e0c113",
   "metadata": {},
   "source": [
    "# Welcome to TQ42\n",
    "\n",
    "## Example of training a generic time series Neural Network"
   ]
  },
  {
   "cell_type": "code",
   "execution_count": 15,
   "id": "7a24163a",
   "metadata": {},
   "outputs": [],
   "source": [
    "#Import Packages\n",
    "from tq42.client import TQ42Client\n",
    "from tq42.organization import list_all as list_all_organizations\n",
    "from tq42.project import list_all as list_all_projects\n",
    "from tq42.experiment import list_all as list_all_experiments\n",
    "from tq42.experiment_run import ExperimentRun\n",
    "from tq42.compute import HardwareProto\n",
    "\n",
    "from tq42.algorithm import (\n",
    "    TrainDataProcessingParametersProto,\n",
    "    OptimProto, \n",
    "    LossFuncProto, \n",
    "    DatasetStorageInfoProto, \n",
    "    ActFuncProto,\n",
    "    GenericMLTrainMetadataProto,\n",
    "    GenericMLTrainParametersProto,\n",
    "    Layer,\n",
    "    PQNLayer,\n",
    "    ClassicalDenseLayer,\n",
    "    MLModelType,\n",
    "    ActivationFunctionLayer,\n",
    "    ActFuncProto,\n",
    "    DropoutLayer,\n",
    "    BatchNormalizationLayer,\n",
    "    TrainModelInfoProto,\n",
    "    MLTrainInputsProto,\n",
    "    AlgorithmProto,\n",
    "    MeasurementModeProto,\n",
    "    MeasureProto,\n",
    "    EntanglingProto,\n",
    "    DiffMethodProto,\n",
    "    QubitTypeProto,\n",
    "    ClassicalLSTMLayer,\n",
    "    QLSTMLayer,\n",
    ")\n",
    "\n",
    "from google.protobuf.json_format import MessageToDict"
   ]
  },
  {
   "cell_type": "markdown",
   "id": "3b92bacb",
   "metadata": {},
   "source": [
    "# Create a client. Select an Organization, Project and Experiment"
   ]
  },
  {
   "cell_type": "code",
   "execution_count": 2,
   "id": "ece8bcee",
   "metadata": {},
   "outputs": [
    {
     "name": "stdout",
     "output_type": "stream",
     "text": [
      "{\"device_code\":\"oTm2rAZRTRTLtfWWOjco6qD9\",\"user_code\":\"FPDR-MMQV\",\"verification_uri\":\"https://auth.terraquantum.io/activate\",\"expires_in\":900,\"interval\":5,\"verification_uri_complete\":\"https://auth.terraquantum.io/activate?user_code=FPDR-MMQV\"}\n",
      "If a browser does not open, please access this URL: https://auth.terraquantum.io/activate?user_code=FPDR-MMQV to login. Also check the code: FPDR-MMQV\n",
      "Authentication is successful, access token is saved in: keyring.\n",
      "org:2b040bcb-1697-491f-83d8-9da045c93eaf\n",
      "proj:347826c3-5b62-4bd7-ad06-cfd11b9e4746\n"
     ]
    }
   ],
   "source": [
    "# Connect to the cloud service\n",
    "# https://terraquantum.io\n",
    "with TQ42Client() as client:\n",
    "    client.login()"
   ]
  },
  {
   "cell_type": "code",
   "execution_count": 3,
   "id": "e2107da9",
   "metadata": {},
   "outputs": [
    {
     "name": "stdout",
     "output_type": "stream",
     "text": [
      "2b040bcb-1697-491f-83d8-9da045c93eaf\n"
     ]
    }
   ],
   "source": [
    "# list the organizations available to you \n",
    "for organization in list_all_organizations(client=client):\n",
    "    print (organization.id)"
   ]
  },
  {
   "cell_type": "code",
   "execution_count": 4,
   "id": "b45e14c5",
   "metadata": {},
   "outputs": [
    {
     "name": "stdout",
     "output_type": "stream",
     "text": [
      "2b040bcb-1697-491f-83d8-9da045c93eaf\n"
     ]
    }
   ],
   "source": [
    "# Select an organization from the list\n",
    "org_selected = list_all_organizations(client=client)[0]\n",
    "print (org_selected.id)"
   ]
  },
  {
   "cell_type": "code",
   "execution_count": 5,
   "id": "414a06d7",
   "metadata": {},
   "outputs": [
    {
     "name": "stdout",
     "output_type": "stream",
     "text": [
      "347826c3-5b62-4bd7-ad06-cfd11b9e4746\n",
      "3973990a-3f89-4096-8491-0f2866e31344\n"
     ]
    }
   ],
   "source": [
    "# List the projects within that organization\n",
    "for project in list_all_projects(client=client, organization_id=org_selected.id):\n",
    "    print (project.id)"
   ]
  },
  {
   "cell_type": "code",
   "execution_count": 7,
   "id": "9fe620d0",
   "metadata": {},
   "outputs": [
    {
     "name": "stdout",
     "output_type": "stream",
     "text": [
      "347826c3-5b62-4bd7-ad06-cfd11b9e4746\n"
     ]
    }
   ],
   "source": [
    "# Select a project from the list\n",
    "proj_selected = list_all_projects(client=client, organization_id=org_selected.id)[0]\n",
    "print(proj_selected.id)"
   ]
  },
  {
   "cell_type": "code",
   "execution_count": 8,
   "id": "1e756564",
   "metadata": {},
   "outputs": [
    {
     "name": "stdout",
     "output_type": "stream",
     "text": [
      "e8ca73ae-d9a2-41a2-aeb8-7a734916fd72\n",
      "5921506d-b7aa-4aa9-a934-1d427a5c9a93\n",
      "75b3aaaa-405c-4312-8ea5-a613460d8cea\n",
      "0762f32e-b2ce-4e58-953c-0a6741e25266\n",
      "91918c0c-7e2c-409b-8b7b-0409d7c36846\n",
      "0ba18e6f-65e6-4c0a-bda3-091c5a45312d\n",
      "3f4fcf32-bc79-4147-971b-ed56b2cc8cd5\n"
     ]
    }
   ],
   "source": [
    "# List the experiments within that project\n",
    "for experiment in list_all_experiments(client=client, project_id=proj_selected.id):\n",
    "    print (experiment.id)"
   ]
  },
  {
   "cell_type": "code",
   "execution_count": 9,
   "id": "c91c4675",
   "metadata": {},
   "outputs": [
    {
     "name": "stdout",
     "output_type": "stream",
     "text": [
      "e8ca73ae-d9a2-41a2-aeb8-7a734916fd72\n"
     ]
    }
   ],
   "source": [
    "# Select an experiment from the list\n",
    "exp_selected = list_all_experiments(client=client, project_id=proj_selected.id)[0]\n",
    "print(exp_selected.id)"
   ]
  },
  {
   "cell_type": "code",
   "execution_count": null,
   "id": "df46949b",
   "metadata": {},
   "outputs": [],
   "source": []
  },
  {
   "cell_type": "markdown",
   "id": "079a8c1d",
   "metadata": {},
   "source": [
    "# Build and Train the Neural Network"
   ]
  },
  {
   "cell_type": "markdown",
   "id": "e9b13b12",
   "metadata": {},
   "source": [
    "### Classical Example"
   ]
  },
  {
   "cell_type": "code",
   "execution_count": 16,
   "id": "5868cf58",
   "metadata": {},
   "outputs": [],
   "source": [
    "# Build the classical neural network\n",
    "\n",
    "classical_train_message=MessageToDict(GenericMLTrainMetadataProto(\n",
    "    parameters=GenericMLTrainParametersProto(\n",
    "        # Choose model type here\n",
    "        model_type=MLModelType.MLP,\n",
    "        # Add and customize and customize layers here\n",
    "        layers=[\n",
    "            Layer(classical_dense_layer=ClassicalDenseLayer(hidden_size=30, bias=True)),\n",
    "            Layer(classical_dense_layer=ClassicalDenseLayer(hidden_size=45, bias=True)),\n",
    "            Layer(classical_dense_layer=ClassicalDenseLayer(hidden_size=60, bias=True)),\n",
    "            Layer(\n",
    "                activation_function_layer=ActivationFunctionLayer(\n",
    "                    function=ActFuncProto.SIGMOID\n",
    "                )\n",
    "            ),\n",
    "            Layer(dropout_layer=DropoutLayer(value=0.5)),\n",
    "            Layer(batch_normalization_layer=BatchNormalizationLayer()),\n",
    "            Layer(\n",
    "                classical_dense_layer=ClassicalDenseLayer(hidden_size=1, bias=False)\n",
    "            ),  # Final layer, bias=False\n",
    "        ],\n",
    "        num_epochs=5,\n",
    "        batch_size=128,\n",
    "        learning_rate=0.05,\n",
    "        k_fold=1,\n",
    "        optim=OptimProto.ADAM,\n",
    "        loss_func=LossFuncProto.MSE,\n",
    "        train_model_info=TrainModelInfoProto(\n",
    "            # Provide a unique name to identify your trained model.\n",
    "            name=\"ENTER_MODEL_NAME_HERE\",\n",
    "            # Add a brief description to help users understand the purpose or functionality of this trained model.\n",
    "            description=\"ADD_DESCRIPTION_HERE\",\n",
    "        ),\n",
    "        data_processing_parameters=TrainDataProcessingParametersProto(\n",
    "            input_columns=[0, 1, 2, 3],\n",
    "            output_columns=[4]\n",
    "        )\n",
    "    ),\n",
    "    inputs=MLTrainInputsProto(\n",
    "        # Provide the specific dataset storage ID of the data you uploaded to TQ42.\n",
    "        data=DatasetStorageInfoProto(storage_id=\"1023200d-6d36-45ea-b66d-afbcc192eabc\")\n",
    "    ),\n",
    "),preserving_proto_field_name=True)"
   ]
  },
  {
   "cell_type": "code",
   "execution_count": 17,
   "id": "5ac21a85",
   "metadata": {},
   "outputs": [
    {
     "name": "stdout",
     "output_type": "stream",
     "text": [
      "id: \"9140b1ce-17ef-4506-9123-1d69c0d60e81\"\n",
      "experiment_id: \"e8ca73ae-d9a2-41a2-aeb8-7a734916fd72\"\n",
      "sequential_id: 4\n",
      "status: QUEUED\n",
      "algorithm: GENERIC_ML_TRAIN\n",
      "hardware: SMALL\n",
      "metadata: \"{\\\"parameters\\\":{\\\"model_type\\\":\\\"MLP\\\",\\\"layers\\\":[{\\\"classical_dense_layer\\\":{\\\"hidden_size\\\":30,\\\"bias\\\":true}},{\\\"classical_dense_layer\\\":{\\\"hidden_size\\\":45,\\\"bias\\\":true}},{\\\"classical_dense_layer\\\":{\\\"hidden_size\\\":60,\\\"bias\\\":true}},{\\\"activation_function_layer\\\":{\\\"function\\\":\\\"SIGMOID\\\"}},{\\\"dropout_layer\\\":{\\\"value\\\":0.5}},{\\\"batch_normalization_layer\\\":{}},{\\\"classical_dense_layer\\\":{\\\"hidden_size\\\":1}}],\\\"num_epochs\\\":5,\\\"batch_size\\\":128,\\\"learning_rate\\\":0.05,\\\"optim\\\":\\\"ADAM\\\",\\\"loss_func\\\":\\\"MSE\\\",\\\"train_model_info\\\":{\\\"name\\\":\\\"ENTER_MODEL_NAME_HERE\\\",\\\"description\\\":\\\"ADD_DESCRIPTION_HERE\\\"},\\\"data_processing_parameters\\\":{\\\"input_columns\\\":[0,1,2,3],\\\"output_columns\\\":[4]},\\\"k_fold\\\":1},\\\"inputs\\\":{\\\"data\\\":{\\\"storage_id\\\":\\\"1023200d-6d36-45ea-b66d-afbcc192eabc\\\"}}}\"\n",
      "result {\n",
      "}\n",
      "created_by: \"8eab6d92-36a1-4caf-a0f4-7461c12c0984\"\n",
      "created_at {\n",
      "  seconds: 1716980551\n",
      "  nanos: 804037721\n",
      "}\n",
      "\n"
     ]
    }
   ],
   "source": [
    "# Train the classical neural network\n",
    "\n",
    "run = ExperimentRun.create(\n",
    "    client=client,\n",
    "    algorithm=AlgorithmProto.GENERIC_ML_TRAIN, \n",
    "    experiment_id=exp_selected.id,\n",
    "    compute=HardwareProto.SMALL, \n",
    "    parameters=classical_train_message\n",
    ")\n",
    "\n",
    "print(run.data)"
   ]
  },
  {
   "cell_type": "markdown",
   "id": "fa60f01f",
   "metadata": {},
   "source": [
    "### Hybrid Quantum Example"
   ]
  },
  {
   "cell_type": "code",
   "execution_count": null,
   "id": "c43d6362",
   "metadata": {},
   "outputs": [],
   "source": [
    "# Build the hybrid quantum neural network\n",
    "\n",
    "hybrid_quantum_train_message=MessageToDict(GenericMLTrainMetadataProto(\n",
    "    parameters=GenericMLTrainParametersProto(\n",
    "        # Choose model type here\n",
    "        model_type=MLModelType.MLP,\n",
    "        # Add and customize and customize layers here\n",
    "        layers=[\n",
    "            Layer(classical_dense_layer=ClassicalDenseLayer(hidden_size=4, bias=True)),\n",
    "            Layer(\n",
    "                activation_function_layer=ActivationFunctionLayer(\n",
    "                    function=ActFuncProto.SIGMOID\n",
    "                )\n",
    "            ),\n",
    "            Layer(classical_dense_layer=ClassicalDenseLayer(hidden_size=4, bias=True)),\n",
    "            Layer(\n",
    "                activation_function_layer=ActivationFunctionLayer(\n",
    "                    function=ActFuncProto.SIGMOID\n",
    "                )\n",
    "            ),\n",
    "            Layer(\n",
    "                pqn_layer=PQNLayer(\n",
    "                    num_qubits=4,\n",
    "                    depth=7,\n",
    "                    measurement_mode=MeasurementModeProto.NONE,\n",
    "                    rotation=MeasureProto.X,\n",
    "                    entangling=EntanglingProto.BASIC,\n",
    "                    measure=MeasureProto.Z,\n",
    "                    diff_method=DiffMethodProto.ADJOINT,\n",
    "                    qubit_type=QubitTypeProto.LIGHTNING_QUBIT,\n",
    "                )\n",
    "            ),\n",
    "            Layer(\n",
    "                activation_function_layer=ActivationFunctionLayer(\n",
    "                    function=ActFuncProto.SIGMOID\n",
    "                )\n",
    "            ),\n",
    "            Layer(classical_dense_layer=ClassicalDenseLayer(hidden_size=1, bias=False)),\n",
    "        ],\n",
    "        num_epochs=5,\n",
    "        k_fold=1,\n",
    "        batch_size=128,\n",
    "        learning_rate=0.05,\n",
    "        optim=OptimProto.ADAM,\n",
    "        loss_func=LossFuncProto.MSE,\n",
    "        train_model_info=TrainModelInfoProto(\n",
    "            # Provide a unique name to identify your trained model.\n",
    "            name=\"ENTER_MODEL_NAME_HERE\",\n",
    "            # Add a brief description to help users understand the purpose or functionality of this trained model.\n",
    "            description=\"ADD_DESCRIPTION_HERE\",\n",
    "        ),\n",
    "    ),\n",
    "    inputs=MLTrainInputsProto(\n",
    "        # Provide the specific dataset storage ID of the data you uploaded to TQ42.\n",
    "        data=DatasetStorageInfoProto(storage_id=\"ENTER_DATASET_STORAGE_ID_HERE\")\n",
    "    ),\n",
    "),preserving_proto_field_name=True)"
   ]
  },
  {
   "cell_type": "code",
   "execution_count": null,
   "id": "ed8c7101",
   "metadata": {},
   "outputs": [],
   "source": [
    "# Train the hybrid quantum neural network\n",
    "\n",
    "run = ExperimentRun.create(\n",
    "    client=client,\n",
    "    algorithm=AlgorithmProto.GENERIC_ML_TRAIN, \n",
    "    experiment_id=exp_selected.id,\n",
    "    compute=HardwareProto.SMALL, \n",
    "    parameters=hybrid_quantum_train_message\n",
    ")\n",
    "\n",
    "print(run.data)"
   ]
  }
 ],
 "metadata": {
  "kernelspec": {
   "display_name": "Python 3 (ipykernel)",
   "language": "python",
   "name": "python3"
  },
  "language_info": {
   "codemirror_mode": {
    "name": "ipython",
    "version": 3
   },
   "file_extension": ".py",
   "mimetype": "text/x-python",
   "name": "python",
   "nbconvert_exporter": "python",
   "pygments_lexer": "ipython3",
   "version": "3.9.19"
  },
  "vscode": {
   "interpreter": {
    "hash": "4c2ad97c998e2a01cc90ffc8f9f23ae19426f7e6b99947651fa609e98d400e38"
   }
  }
 },
 "nbformat": 4,
 "nbformat_minor": 5
}
