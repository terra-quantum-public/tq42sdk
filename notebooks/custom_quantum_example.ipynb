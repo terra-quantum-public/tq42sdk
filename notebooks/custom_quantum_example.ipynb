{
 "cells": [
  {
   "cell_type": "markdown",
   "metadata": {},
   "source": [
    "![TQ42%20Banner.png](attachment:TQ42%20Banner.png)"
   ]
  },
  {
   "cell_type": "markdown",
   "metadata": {},
   "source": [
    "# Welcome to TQ42\n",
    "\n",
    "## Example: Using Custom Quantum Layers"
   ]
  },
  {
   "cell_type": "markdown",
   "metadata": {},
   "source": [
    "## ✨ Introduction \n",
    "This notebook demonstrates how to create and use a custom quantum (CQ) layer within a classical machine learning model, using the TQ42 SDK. For more details, please see the [developer documentation](https://docs.tq42.com/en/latest/index.html).\n",
    "\n",
    "We'll tackle a regression problem with the Boston House Price dataset, predicting house prices based on property and neighborhood features. \n",
    "\n",
    "## 🎯 Objective\n",
    "\n",
    "Applying a custom quantum (CQ) layer within a classical architecture involves:\n",
    "1. Preparing and connecting a training dataset\n",
    "2. Designing a CQ layer by creating and ordering the gates available in the TQnet library\n",
    "3. Integrating the CQ layer into a classical neural network model\n",
    "4. Creating and monitoring an experiment run to train the model using the data"
   ]
  },
  {
   "cell_type": "markdown",
   "metadata": {},
   "source": [
    "# 1. Import the TQ42 API"
   ]
  },
  {
   "cell_type": "code",
   "execution_count": null,
   "metadata": {},
   "outputs": [],
   "source": [
    "# Import packages\n",
    "\n",
    "from google.protobuf.json_format import MessageToDict\n",
    "from tq42.client import TQ42Client\n",
    "from tq42.organization import list_all as list_all_organizations\n",
    "from tq42.project import list_all as list_all_projects\n",
    "from tq42.experiment import list_all as list_all_experiments\n",
    "from tq42.experiment_run import ExperimentRun, HardwareProto\n",
    "from tq42.dataset import list_all\n",
    "\n",
    "\n",
    "from tq42.algorithm import (\n",
    "    TrainDataProcessingParametersProto,\n",
    "    OptimProto,\n",
    "    LossFuncProto,\n",
    "    DatasetStorageInfoProto,\n",
    "    GenericMLTrainMetadataProto,\n",
    "    GenericMLTrainParametersProto,\n",
    "    Layer,\n",
    "    ClassicalDenseLayer,\n",
    "    MLModelType,\n",
    "    TrainModelInfoProto,\n",
    "    MLTrainInputsProto,\n",
    "    AlgorithmProto,\n",
    "    MeasureProto,\n",
    "    CustomQuantumLayer,\n",
    "    CnotGate,\n",
    "    HadamardGate,\n",
    "    VariationalGate,\n",
    "    EncodingGate,\n",
    "    MeasurementGate,\n",
    "    Gate\n",
    ")\n",
    "\n",
    "from ipywidgets import interact, interactive, fixed, interact_manual"
   ]
  },
  {
   "cell_type": "markdown",
   "metadata": {},
   "source": [
    "# 2. Create a client"
   ]
  },
  {
   "cell_type": "code",
   "execution_count": null,
   "metadata": {},
   "outputs": [],
   "source": [
    "# Connect to the cloud service\n",
    "# https://terraquantum.io\n",
    "\n",
    "with TQ42Client() as client:\n",
    "    client.login()"
   ]
  },
  {
   "cell_type": "markdown",
   "metadata": {},
   "source": [
    "# 3. Select an organization, project and experiment"
   ]
  },
  {
   "cell_type": "code",
   "execution_count": null,
   "metadata": {},
   "outputs": [],
   "source": [
    "# List the organizations available to you and select one\n",
    "\n",
    "with TQ42Client() as client: \n",
    "    org_list = list_all_organizations(client=client)\n",
    "    \n",
    "org=None\n",
    "def f(x):\n",
    "    global org\n",
    "    for o in org_list:\n",
    "        if o.data.name == x:\n",
    "            org = o\n",
    "            print(f\"Using organization {x}, {org.data.id}\")\n",
    "            return\n",
    "        \n",
    "interact(f, x=[o.data.name for o in org_list]);"
   ]
  },
  {
   "cell_type": "code",
   "execution_count": null,
   "metadata": {},
   "outputs": [],
   "source": [
    "# List the projects within that organization and select one\n",
    "   \n",
    "with TQ42Client() as client: \n",
    "    proj_list = list_all_projects(client=client, organization_id=org.id)\n",
    "    \n",
    "proj=None\n",
    "def f(x):\n",
    "    global proj\n",
    "    for p in proj_list:\n",
    "        if p.data.name == x:\n",
    "            proj = p\n",
    "            print(f\"Using project {x}, {proj.data.id}\")\n",
    "            return\n",
    "        \n",
    "interact(f, x=[p.data.name for p in proj_list]);"
   ]
  },
  {
   "cell_type": "code",
   "execution_count": null,
   "metadata": {},
   "outputs": [],
   "source": [
    "# List the experiments within that project and select one\n",
    "\n",
    "with TQ42Client() as client: \n",
    "    exp_list = list_all_experiments(client=client, project_id=proj.id)\n",
    "    \n",
    "exp=None\n",
    "def f(x):\n",
    "    global exp\n",
    "    for e in exp_list:\n",
    "        if e.data.name == x:\n",
    "            exp = e\n",
    "            print(f\"Using experiment {x}, {exp.data.id}\")\n",
    "            return\n",
    "        \n",
    "interact(f, x=[e.data.name for e in exp_list]);"
   ]
  },
  {
   "cell_type": "markdown",
   "metadata": {},
   "source": [
    "# 4. List Datasets Available in the Project"
   ]
  },
  {
   "cell_type": "code",
   "execution_count": null,
   "metadata": {},
   "outputs": [],
   "source": [
    "# List datasets in the project you can use to train your model\n",
    "# You'll provide the id for one of these datasets along with the input and output columns when you train the model below. If you don't know the input/output columns for the dataset, it's best to upload a new one.\n",
    "\n",
    "with TQ42Client() as client:\n",
    "    datasets = list_all(client=client, project_id=\"ENTER_PROJECT_ID_HERE\")\n",
    "    print(datasets)"
   ]
  },
  {
   "cell_type": "markdown",
   "metadata": {},
   "source": [
    "# 5. (Optional) Upload a Dataset"
   ]
  },
  {
   "cell_type": "code",
   "execution_count": null,
   "metadata": {},
   "outputs": [],
   "source": [
    "# If you do not already have a dataset in that project, upload a dataset from a cloud storage bucket\n",
    "# Note: The URL format is gs://[id_of_bucket].\n",
    "\n",
    "from tq42.client import TQ42Client\n",
    "from tq42.dataset import Dataset, DatasetSensitivityProto\n",
    "\n",
    "with TQ42Client() as client:\n",
    "    dataset = Dataset.create(\n",
    "        client=client,\n",
    "        name=\"<NAME_OF_THE_NEW_DATASET>\",\n",
    "        description=\"<DESCRIPTION_OF_THE_NEW_DATASET>\",\n",
    "        url=\"gs://<THIS_IS_YOUR_BUCKET_URL>\",\n",
    "        sensitivity=DatasetSensitivityProto.SENSITIVE,\n",
    "        project_id=\"<PROJECT_ID>\",\n",
    "    )\n",
    "    print(dataset.id)"
   ]
  },
  {
   "cell_type": "markdown",
   "metadata": {},
   "source": [
    "# 6. Build and Train the Custom-Hybrid Network"
   ]
  },
  {
   "cell_type": "markdown",
   "metadata": {},
   "source": [
    "Verify your experiment run details"
   ]
  },
  {
   "cell_type": "code",
   "execution_count": null,
   "metadata": {},
   "outputs": [],
   "source": [
    "print(f\"Running experiment within: Org {org.data.name, org.id}, Proj {proj.data.name, proj.id} and Exp {exp.data.name, exp.id}`\")"
   ]
  },
  {
   "cell_type": "code",
   "execution_count": null,
   "metadata": {},
   "outputs": [],
   "source": [
    "# Create and design the Custom Quantum Layer. This is an example, however this sequence is customizable\n",
    "\n",
    "custom_quantum_layer_msg = CustomQuantumLayer(\n",
    "    num_qubits=2,\n",
    "    gates=[\n",
    "        # Apply Hadamard gates to create superposition\n",
    "        Gate(hadamard=HadamardGate(wire=0)),\n",
    "        Gate(hadamard=HadamardGate(wire=1)),\n",
    "        # Apply a variational gate for parameter optimization\n",
    "        Gate(variational=VariationalGate(wire=0, rotation=MeasureProto.X)),\n",
    "        Gate(\n",
    "            # Encode classical data into the quantum circuit\n",
    "            encoding=EncodingGate(wire=1, rotation=MeasureProto.Y, feature_id=0) # Encode classical feature 0 as Y rotation on qubit 1\n",
    "        ),\n",
    "        # Apply entanglement between qubits\n",
    "        Gate(cnot=CnotGate(wire1=0, wire2=1)), # CNOT gate with control qubit 0 and target qubit 1\n",
    "        # Apply another variational gate\n",
    "        Gate(variational=VariationalGate(wire=1, rotation=MeasureProto.X)),\n",
    "        # Measure the qubits\n",
    "        Gate(measurement=MeasurementGate(wire=0, pauli=MeasureProto.X)),\n",
    "        Gate(measurement=MeasurementGate(wire=1, pauli=MeasureProto.X)),\n",
    "    ],\n",
    ")\n",
    "# Create a classical neural network and integrate the CQ layer\n",
    "env_msg = GenericMLTrainMetadataProto(\n",
    "    parameters=GenericMLTrainParametersProto(\n",
    "        model_type=MLModelType.MLP,\n",
    "        # Add and customize layers here\n",
    "        layers=[\n",
    "            Layer(custom_quantum_layer=custom_quantum_layer_msg),\n",
    "            Layer(classical_dense_layer=ClassicalDenseLayer(hidden_size=1, bias=True)),\n",
    "        ],\n",
    "        num_epochs=1,\n",
    "        k_fold=1,\n",
    "        batch_size=128,\n",
    "        learning_rate=0.01,\n",
    "        optim=OptimProto.ADAM,\n",
    "        loss_func=LossFuncProto.MAE,\n",
    "        train_model_info=TrainModelInfoProto(\n",
    "            # Provide a unique name to identify your trained model\n",
    "            name=\"local_test\",\n",
    "            # Add a brief description to help users understand the purpose or functionality of this trained model\n",
    "            description=\"a_description\",\n",
    "        ),\n",
    "        # Specify the input and output columns for your dataset\n",
    "        data_processing_parameters=TrainDataProcessingParametersProto(\n",
    "            input_columns=[0, 1, 2, 3, 4, 5, 6, 7, 8, 9, 10, 11, 12],\n",
    "            output_columns=[13]\n",
    "        ),\n",
    "    ),\n",
    "    inputs=MLTrainInputsProto(\n",
    "        # Provide the specific dataset storage ID of the data you uploaded to TQ42\n",
    "        data=DatasetStorageInfoProto(storage_id=\"STORAGE ID\")\n",
    "    ),\n",
    ")"
   ]
  },
  {
   "cell_type": "code",
   "execution_count": null,
   "metadata": {},
   "outputs": [],
   "source": [
    "# Train the neural network containing the new custom quantum layer\n",
    "\n",
    "run = ExperimentRun.create(\n",
    "    client=client,\n",
    "    algorithm=AlgorithmProto.GENERIC_ML_TRAIN,\n",
    "    experiment_id=exp.id,\n",
    "    compute=HardwareProto.SMALL,\n",
    "    parameters=MessageToDict(env_msg, preserving_proto_field_name=True)\n",
    ")\n",
    "\n",
    "print(run.data)"
   ]
  },
  {
   "cell_type": "code",
   "execution_count": null,
   "metadata": {},
   "outputs": [],
   "source": [
    "# Poll for the results\n",
    "\n",
    "result = run.poll()\n",
    "\n",
    "print(result.data)"
   ]
  },
  {
   "cell_type": "markdown",
   "metadata": {},
   "source": [
    "### Export Results"
   ]
  },
  {
   "cell_type": "code",
   "execution_count": null,
   "metadata": {},
   "outputs": [],
   "source": [
    "# Export the trained dataset using the storage_id of the inferred_evaluation_data in the results above\n",
    "\n",
    "dataset = Dataset(client=client, id=\"<YOUR_DATASET_ID>\")\n",
    "print(dataset)\n",
    "exported_files = dataset.export(directory_path=\"<YOUR_EXPORT_PATH>\")\n",
    "print(exported_files)"
   ]
  }
 ],
 "metadata": {
  "kernelspec": {
   "display_name": "Python (TQ42_SDK_env)",
   "language": "python",
   "name": "tq42_sdk_env"
  },
  "language_info": {
   "codemirror_mode": {
    "name": "ipython",
    "version": 3
   },
   "file_extension": ".py",
   "mimetype": "text/x-python",
   "name": "python",
   "nbconvert_exporter": "python",
   "pygments_lexer": "ipython3",
   "version": "3.9.19"
  }
 },
 "nbformat": 4,
 "nbformat_minor": 2
}
