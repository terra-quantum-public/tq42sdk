{
 "cells": [
  {
   "cell_type": "markdown",
   "id": "3d964459",
   "metadata": {},
   "source": [
    "![](../images/TQ42_Logo_Black_Teal.svg)\n",
    "\n",
    "\n",
    "# Welcome to TQ42!\n",
    "\n",
    "\n",
    "## Import tq42api"
   ]
  },
  {
   "cell_type": "code",
   "execution_count": 30,
   "id": "b3f3436a",
   "metadata": {
    "ExecuteTime": {
     "end_time": "2023-12-22T15:23:28.581999Z",
     "start_time": "2023-12-22T15:23:28.563995Z"
    }
   },
   "outputs": [],
   "source": [
    "from tq42.client import TQ42Client\n",
    "from tq42.organization import list_all as list_all_organizations\n",
    "from tq42.project import list_all as list_all_projects\n",
    "from tq42.experiment import list_all as list_all_experiments\n",
    "from tq42.experiment_run import ExperimentRun\n",
    "from tq42.algorithm import AlgorithmProto\n",
    "from tq42.compute import HardwareProto"
   ]
  },
  {
   "cell_type": "markdown",
   "id": "e8db806c",
   "metadata": {},
   "source": [
    "## Create a client and list organizations available"
   ]
  },
  {
   "cell_type": "code",
   "execution_count": 32,
   "id": "c87c20d3",
   "metadata": {
    "ExecuteTime": {
     "end_time": "2023-12-22T15:23:28.655272Z",
     "start_time": "2023-12-22T15:23:28.573754Z"
    }
   },
   "outputs": [
    {
     "name": "stdout",
     "output_type": "stream",
     "text": [
      "[<tq42.organization.Organization object at 0x1064b77c0>]\n"
     ]
    }
   ],
   "source": [
    "with TQ42Client() as client: \n",
    "    org_list = list_all_organizations(client=client)\n",
    "    org = org_list[0]\n",
    "    print(org.id)"
   ]
  },
  {
   "cell_type": "markdown",
   "id": "7b76f230",
   "metadata": {},
   "source": [
    "## List and select projects"
   ]
  },
  {
   "cell_type": "code",
   "execution_count": 34,
   "id": "1470d03e",
   "metadata": {
    "ExecuteTime": {
     "end_time": "2023-12-22T15:23:28.749773Z",
     "start_time": "2023-12-22T15:23:28.658251Z"
    }
   },
   "outputs": [
    {
     "name": "stdout",
     "output_type": "stream",
     "text": [
      "[<tq42.project.Project object at 0x106473520>]\n"
     ]
    }
   ],
   "source": [
    "    proj_list = list_all_projects(client=client, organization_id=org.id)\n",
    "    proj = proj_list[0]\n",
    "    print(proj.id)"
   ]
  },
  {
   "cell_type": "markdown",
   "id": "dc1e3411",
   "metadata": {},
   "source": [
    "## List and select experiment"
   ]
  },
  {
   "cell_type": "code",
   "execution_count": 36,
   "id": "c0dea937",
   "metadata": {
    "scrolled": true,
    "ExecuteTime": {
     "end_time": "2023-12-22T15:23:29.211697Z",
     "start_time": "2023-12-22T15:23:28.753934Z"
    }
   },
   "outputs": [
    {
     "name": "stdout",
     "output_type": "stream",
     "text": [
      "[<tq42.experiment.Experiment object at 0x105b5b8b0>, <tq42.experiment.Experiment object at 0x105e31dc0>, <tq42.experiment.Experiment object at 0x106495820>, <tq42.experiment.Experiment object at 0x1064954c0>]\n"
     ]
    }
   ],
   "source": [
    "    exp_list = list_all_experiments(client=client, project_id=proj.id)\n",
    "    exp_sample = exp_list[-1]\n",
    "    print(exp_sample.id)"
   ]
  },
  {
   "cell_type": "markdown",
   "id": "1f988e71",
   "metadata": {},
   "source": [
    "## Run an experiment\n",
    "\n",
    "This example uses the toy experiment type, which is for testing purposes."
   ]
  },
  {
   "cell_type": "code",
   "outputs": [],
   "source": [
    "    print(f\"Running experiment within: Org {org.id}, Proj {proj.id} and Exp {exp_sample.id}`\")"
   ],
   "metadata": {
    "collapsed": false
   },
   "id": "af745a754790a3de"
  },
  {
   "cell_type": "code",
   "execution_count": 39,
   "id": "0611ddd6",
   "metadata": {
    "scrolled": true,
    "ExecuteTime": {
     "end_time": "2023-12-22T15:23:29.675241Z",
     "start_time": "2023-12-22T15:23:29.468233Z"
    }
   },
   "outputs": [
    {
     "name": "stdout",
     "output_type": "stream",
     "text": [
      "id: \"3b09e70d-e6a7-44a4-8f85-07f310928ee2\"\n",
      "experiment_id: \"796e95e6-a6bc-4880-92f9-13755a0772cd\"\n",
      "sequential_id: 21\n",
      "status: QUEUED\n",
      "algorithm: TOY\n",
      "hardware: SMALL\n",
      "metadata: \"{\\\"parameters\\\":{\\\"n\\\":3,\\\"r\\\":1.5,\\\"msg\\\":\\\"hi!\\\"}}\"\n",
      "result {\n",
      "}\n",
      "created_by: \"3011b225-73a6-470c-b2e1-6f3c3e358149\"\n",
      "created_at {\n",
      "  seconds: 1703258609\n",
      "  nanos: 670783592\n",
      "}\n"
     ]
    }
   ],
   "source": [
    "    parameters = {\n",
    "        \"parameters\": {\n",
    "            'n': 3,\n",
    "            'r': 1.5, \n",
    "            'msg': \"hi!\", \n",
    "        },\n",
    "        \"inputs\": {}\n",
    "    }\n",
    "    run = ExperimentRun.create(\n",
    "        client=client,\n",
    "        algorithm=AlgorithmProto.TOY, \n",
    "        experiment_id=exp_sample.id,\n",
    "        compute=HardwareProto.SMALL, \n",
    "        parameters=parameters\n",
    "    )\n",
    "    \n",
    "    print(run.data)"
   ]
  },
  {
   "cell_type": "markdown",
   "id": "fb94c4da",
   "metadata": {},
   "source": [
    "## Poll the experiment run, and return results when finished"
   ]
  },
  {
   "cell_type": "code",
   "execution_count": 40,
   "id": "235e707b",
   "metadata": {
    "scrolled": true,
    "ExecuteTime": {
     "end_time": "2023-12-22T15:24:29.241912Z",
     "start_time": "2023-12-22T15:23:29.671856Z"
    }
   },
   "outputs": [
    {
     "name": "stdout",
     "output_type": "stream",
     "text": [
      "<tq42.experiment_run.ExperimentRun object at 0x10647c190>\n"
     ]
    }
   ],
   "source": [
    "    result = run.poll()\n",
    "    print(result)"
   ]
  }
 ],
 "metadata": {
  "kernelspec": {
   "display_name": "Python 3 (ipykernel)",
   "language": "python",
   "name": "python3"
  },
  "language_info": {
   "codemirror_mode": {
    "name": "ipython",
    "version": 3
   },
   "file_extension": ".py",
   "mimetype": "text/x-python",
   "name": "python",
   "nbconvert_exporter": "python",
   "pygments_lexer": "ipython3",
   "version": "3.11.5"
  },
  "vscode": {
   "interpreter": {
    "hash": "2b948f73c602804da10ac5ef2ce43914090a4d8e5675991f378fa84d87ab2597"
   }
  }
 },
 "nbformat": 4,
 "nbformat_minor": 5
}
