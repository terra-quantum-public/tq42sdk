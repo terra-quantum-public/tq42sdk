{
 "cells": [
  {
   "cell_type": "markdown",
   "id": "3d964459",
   "metadata": {},
   "source": [
    "![](../images/TQ42_Banner.png)\n",
    "\n",
    "\n",
    "# Welcome to TQ42\n",
    "\n",
    "## ✨ Introduction \n",
    "In this notebook, we will cover how to connect to and start using the TQ42 SDK. For more details, please see the [developer documentation](https://docs.tq42.com/en/latest/index.html).\n",
    "\n",
    "## 🎯 Objective\n",
    "\n",
    "Getting started involves:\n",
    "1. Creating and authenticating a client, so that you can connect to TQ42. \n",
    "2. Seeing the organizations you belong to. \n",
    "3. Selecting the projects and experiments available for you to work in. \n",
    "4. Running a sample experiment. \n",
    "\n",
    "\n",
    "## Import tq42api"
   ]
  },
  {
   "cell_type": "code",
   "execution_count": null,
   "id": "b3f3436a",
   "metadata": {
    "ExecuteTime": {
     "end_time": "2023-12-22T15:23:28.581999Z",
     "start_time": "2023-12-22T15:23:28.563995Z"
    }
   },
   "outputs": [],
   "source": [
    "#import packages\n",
    "\n",
    "from tq42.client import TQ42Client\n",
    "from tq42.organization import list_all as list_all_organizations\n",
    "from tq42.project import list_all as list_all_projects\n",
    "from tq42.experiment import list_all as list_all_experiments\n",
    "from tq42.experiment_run import ExperimentRun, HardwareProto\n",
    "from tq42.algorithm import AlgorithmProto"
   ]
  },
  {
   "cell_type": "markdown",
   "id": "1eb308d8",
   "metadata": {},
   "source": [
    "## 1. Create a client"
   ]
  },
  {
   "cell_type": "code",
   "execution_count": null,
   "id": "f57f6788",
   "metadata": {},
   "outputs": [],
   "source": [
    "# Connect to the cloud service\n",
    "# https://terraquantum.io\n",
    "# This API call will open a window in your browser where you must confirm the MFA code, then enter your TQ42 username and password to authenticate.\n",
    "\n",
    "with TQ42Client() as client:\n",
    "    client.login()"
   ]
  },
  {
   "cell_type": "markdown",
   "id": "e8db806c",
   "metadata": {},
   "source": [
    "## 2. List organizations available"
   ]
  },
  {
   "cell_type": "code",
   "execution_count": null,
   "id": "c87c20d3",
   "metadata": {
    "ExecuteTime": {
     "end_time": "2023-12-22T15:23:28.655272Z",
     "start_time": "2023-12-22T15:23:28.573754Z"
    }
   },
   "outputs": [],
   "source": [
    "# List the organizations available to you and select one\n",
    "\n",
    "# with TQ42Client() as client: \n",
    "org_list = list_all_organizations(client=client)\n",
    "org = org_list[0]\n",
    "print(org.data.name, org.id)"
   ]
  },
  {
   "cell_type": "markdown",
   "id": "7b76f230",
   "metadata": {},
   "source": [
    "## 3. List and select projects"
   ]
  },
  {
   "cell_type": "code",
   "execution_count": null,
   "id": "1470d03e",
   "metadata": {
    "ExecuteTime": {
     "end_time": "2023-12-22T15:23:28.749773Z",
     "start_time": "2023-12-22T15:23:28.658251Z"
    }
   },
   "outputs": [],
   "source": [
    "# List all the projecst within that organization and select one\n",
    "    \n",
    "proj_list = list_all_projects(client=client, organization_id=org.id)\n",
    "proj = proj_list[0]\n",
    "print(proj.data.name, proj.id)"
   ]
  },
  {
   "cell_type": "markdown",
   "id": "dc1e3411",
   "metadata": {},
   "source": [
    "## 4. List and select experiment"
   ]
  },
  {
   "cell_type": "code",
   "execution_count": null,
   "id": "c0dea937",
   "metadata": {
    "ExecuteTime": {
     "end_time": "2023-12-22T15:23:29.211697Z",
     "start_time": "2023-12-22T15:23:28.753934Z"
    },
    "scrolled": true
   },
   "outputs": [],
   "source": [
    "# List the experiments within that project and select one\n",
    "\n",
    "exp_list = list_all_experiments(client=client, project_id=proj.id)\n",
    "exp_sample = exp_list[-1]\n",
    "print(exp_sample.data.name, exp_sample.id)"
   ]
  },
  {
   "cell_type": "markdown",
   "id": "1f988e71",
   "metadata": {},
   "source": [
    "## 5. Run an experiment\n",
    "\n",
    "This example uses a toy algorithm, which is for testing purposes."
   ]
  },
  {
   "cell_type": "code",
   "execution_count": null,
   "id": "af745a754790a3de",
   "metadata": {
    "collapsed": false,
    "jupyter": {
     "outputs_hidden": false
    }
   },
   "outputs": [],
   "source": [
    "# Confirm which organization, project, and experiment you are running an experiment in\n",
    "\n",
    "print(f\"Running experiment within: Org {org.data.name, org.id}, Proj {proj.data.name, proj.id} and Exp {exp_sample.data.name, exp_sample.id}`\")"
   ]
  },
  {
   "cell_type": "code",
   "execution_count": null,
   "id": "0611ddd6",
   "metadata": {
    "ExecuteTime": {
     "end_time": "2023-12-22T15:23:29.675241Z",
     "start_time": "2023-12-22T15:23:29.468233Z"
    },
    "scrolled": true
   },
   "outputs": [],
   "source": [
    "# Create and run an experiment\n",
    "\n",
    "parameters = {\n",
    "    \"parameters\": {\n",
    "        'n': 3,\n",
    "        'r': 1.5, \n",
    "        # Include a friendly message\n",
    "        'msg': \"hi!\", \n",
    "    },\n",
    "    \"inputs\": {}\n",
    "}\n",
    "run = ExperimentRun.create(\n",
    "    client=client,\n",
    "    # Specify the algorithm type. Here we are using a toy algorithm\n",
    "    algorithm=AlgorithmProto.TOY, \n",
    "    experiment_id=exp_sample.id,\n",
    "    compute=HardwareProto.SMALL, \n",
    "    parameters=parameters\n",
    ")\n",
    "\n",
    "print(run.data)"
   ]
  },
  {
   "cell_type": "markdown",
   "id": "fb94c4da",
   "metadata": {},
   "source": [
    "### Poll the experiment run, and return results when finished"
   ]
  },
  {
   "cell_type": "code",
   "execution_count": null,
   "id": "235e707b",
   "metadata": {
    "ExecuteTime": {
     "end_time": "2023-12-22T15:24:29.241912Z",
     "start_time": "2023-12-22T15:23:29.671856Z"
    },
    "scrolled": true
   },
   "outputs": [],
   "source": [
    "# poll for the results\n",
    "\n",
    "result = run.poll()\n",
    "print(result)"
   ]
  }
 ],
 "metadata": {
  "kernelspec": {
   "display_name": "Python (TQ42_SDK_env)",
   "language": "python",
   "name": "tq42_sdk_env"
  },
  "language_info": {
   "codemirror_mode": {
    "name": "ipython",
    "version": 3
   },
   "file_extension": ".py",
   "mimetype": "text/x-python",
   "name": "python",
   "nbconvert_exporter": "python",
   "pygments_lexer": "ipython3",
   "version": "3.9.19"
  },
  "vscode": {
   "interpreter": {
    "hash": "2b948f73c602804da10ac5ef2ce43914090a4d8e5675991f378fa84d87ab2597"
   }
  }
 },
 "nbformat": 4,
 "nbformat_minor": 5
}
