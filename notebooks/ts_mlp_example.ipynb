{
 "cells": [
  {
   "cell_type": "markdown",
   "id": "52eb650f",
   "metadata": {},
   "source": [
    "# Welcome to TQ42\n",
    "\n",
    "## Example of Multilayer Perceptron (MLP)"
   ]
  },
  {
   "cell_type": "code",
   "execution_count": null,
   "id": "ba8371b4",
   "metadata": {},
   "outputs": [],
   "source": [
    "from tq42.client import TQ42Client\n",
    "from tq42.organization import list_all as list_all_organizations\n",
    "from tq42.project import list_all as list_all_projects\n",
    "from tq42.experiment import list_all as list_all_experiments\n",
    "from tq42.experiment_run import ExperimentRun\n",
    "from tq42.compute import HardwareProto\n",
    "from tq42.algorithm import (\n",
    "    AlgorithmProto, \n",
    "    OptimProto, \n",
    "    LossFuncProto, \n",
    "    DatasetStorageInfoProto, \n",
    "    MLTrainInputsProto,\n",
    "    TSMLPTrainMetadataProto, \n",
    "    TSMLPTrainParametersProto,\n",
    "    ActFuncProto\n",
    ")\n",
    "from google.protobuf.json_format import MessageToDict"
   ]
  },
  {
   "cell_type": "markdown",
   "id": "969ade6b",
   "metadata": {},
   "source": [
    "# Create a client and selecting org, proj and exp"
   ]
  },
  {
   "cell_type": "code",
   "execution_count": null,
   "id": "a0c93bbd",
   "metadata": {},
   "outputs": [],
   "source": [
    "with TQ42Client() as client:\n",
    "    org_sample = list_all_organizations(client=client)[0] \n",
    "    proj_sample = list_all_projects(client=client, organization_id=org_sample.id)[0]\n",
    "    exp_sample = list_all_experiments(client=client, project_id=proj_sample.id)[-1]"
   ]
  },
  {
   "cell_type": "code",
   "execution_count": null,
   "id": "58f74300",
   "metadata": {
    "jupyter": {
     "outputs_hidden": false
    }
   },
   "outputs": [],
   "source": [
    "    print(f\"Running experiment within: Org {org_sample.id}, Proj {proj_sample.id} and Exp {exp_sample.id}`\")"
   ]
  },
  {
   "cell_type": "markdown",
   "id": "582a08bb",
   "metadata": {},
   "source": [
    "# Set parameters for the train"
   ]
  },
  {
   "cell_type": "code",
   "execution_count": null,
   "id": "61b4837f",
   "metadata": {},
   "outputs": [],
   "source": [
    "    parameters_train = MessageToDict(TSMLPTrainMetadataProto(\n",
    "        parameters=TSMLPTrainParametersProto(\n",
    "            input_width=1,\n",
    "            label_width=1,\n",
    "            dim_list=[30, 45, 60],\n",
    "            act_func=ActFuncProto.SIGMOID,\n",
    "            dropout=True,\n",
    "            dropout_p=0.5,\n",
    "            bn=True,\n",
    "            num_epochs=5,\n",
    "            batch_size=20,\n",
    "            learning_rate=0.05,\n",
    "            optim=OptimProto.ADAM,\n",
    "            loss_func=LossFuncProto.MSE,\n",
    "            time_column=\"Time\",\n",
    "            target_column=\"Power, kW\"\n",
    "        ),\n",
    "        inputs=MLTrainInputsProto(\n",
    "            data=DatasetStorageInfoProto(storage_id=\"ENTER_DATASET_STORAGE_ID_HERE\")\n",
    "        )\n",
    "    ), preserving_proto_field_name=True)"
   ]
  },
  {
   "cell_type": "markdown",
   "id": "97b65598",
   "metadata": {},
   "source": [
    "# Train the model"
   ]
  },
  {
   "cell_type": "code",
   "execution_count": null,
   "id": "4d8029ba",
   "metadata": {},
   "outputs": [],
   "source": [
    "    run = ExperimentRun.create(\n",
    "        client=client,\n",
    "        algorithm=AlgorithmProto.TS_MLP_TRAIN, \n",
    "        experiment_id=exp_sample.id,\n",
    "        compute=HardwareProto.SMALL, \n",
    "        parameters=parameters_train\n",
    "    )\n",
    "    \n",
    "    print(run.data)"
   ]
  },
  {
   "cell_type": "markdown",
   "id": "07261125",
   "metadata": {},
   "source": [
    "# Import functions for the evaluate"
   ]
  },
  {
   "cell_type": "code",
   "execution_count": null,
   "id": "05304b3b",
   "metadata": {},
   "outputs": [],
   "source": [
    "from tq42.algorithm import (\n",
    "    ModelStorageInfoProto,\n",
    "    TSEvalInputsProto,\n",
    "    TSMLPEvalMetadataProto,\n",
    "    TSMLPEvalParametersProto\n",
    ") "
   ]
  },
  {
   "cell_type": "markdown",
   "id": "3bdae574",
   "metadata": {},
   "source": [
    "# Set parameters for the evaluate"
   ]
  },
  {
   "cell_type": "code",
   "execution_count": null,
   "id": "7ac2178e",
   "metadata": {},
   "outputs": [],
   "source": [
    "params_eval =  MessageToDict(TSMLPEvalMetadataProto(\n",
    "    parameters=TSMLPEvalParametersProto(\n",
    "        input_width=1,\n",
    "        label_width=1,\n",
    "        dim_list=[30, 45, 60],\n",
    "        act_func=ActFuncProto.SIGMOID,\n",
    "        dropout=True,\n",
    "        dropout_p=0.5,\n",
    "        bn=True,\n",
    "        time_column=\"Time\"\n",
    "    ),\n",
    "    inputs=TSEvalInputsProto(\n",
    "        model=ModelStorageInfoProto(storage_id=\"MODEL_STORAGE_BUCKET_ID\"),\n",
    "        data=DatasetStorageInfoProto(storage_id=\"DATA_STORAGE_BUCKET_ID\")\n",
    "    )\n",
    "), preserving_proto_field_name=True)"
   ]
  },
  {
   "cell_type": "markdown",
   "id": "3e2b964a",
   "metadata": {},
   "source": [
    "# Evaluate the model"
   ]
  },
  {
   "cell_type": "code",
   "execution_count": null,
   "id": "d82f7062",
   "metadata": {},
   "outputs": [],
   "source": [
    "with TQ42Client() as client:\n",
    "    run = ExperimentRun.create(\n",
    "        client=client,\n",
    "        algorithm=AlgorithmProto.TS_MLP_EVAL,\n",
    "        experiment_id=exp_sample.id,\n",
    "        compute=HardwareProto.SMALL,\n",
    "        parameters=params_eval\n",
    "    )\n",
    "    print(run.data)"
   ]
  }
 ],
 "metadata": {
  "kernelspec": {
   "display_name": "Python 3 (ipykernel)",
   "language": "python",
   "name": "python3"
  },
  "language_info": {
   "codemirror_mode": {
    "name": "ipython",
    "version": 3
   },
   "file_extension": ".py",
   "mimetype": "text/x-python",
   "name": "python",
   "nbconvert_exporter": "python",
   "pygments_lexer": "ipython3",
   "version": "3.9.19"
  }
 },
 "nbformat": 4,
 "nbformat_minor": 5
}
