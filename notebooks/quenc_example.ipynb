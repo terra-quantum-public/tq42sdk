{
 "cells": [
  {
   "cell_type": "markdown",
   "id": "f9fcbf9f",
   "metadata": {},
   "source": [
    "![](../images/TQ42_Banner.png)\n",
    "\n",
    "\n",
    "# Welcome to TQ42!\n",
    "\n",
    "\n",
    "## Begin by creating a client and selecting org, proj and exp"
   ]
  },
  {
   "cell_type": "code",
   "execution_count": null,
   "id": "f11cd74e",
   "metadata": {},
   "outputs": [],
   "source": [
    "from tq42.client import TQ42Client\n",
    "from tq42.organization import list_all as list_all_organizations\n",
    "from tq42.project import list_all as list_all_projects\n",
    "from tq42.experiment import list_all as list_all_experiments\n",
    "from tq42.experiment_run import ExperimentRun\n",
    "from tq42.algorithm import AlgorithmProto\n",
    "from tq42.compute import HardwareProto"
   ]
  },
  {
   "cell_type": "code",
   "execution_count": null,
   "id": "272e9a20",
   "metadata": {},
   "outputs": [],
   "source": [
    "with TQ42Client() as client: \n",
    "    org_list = list_all_organizations(client=client)\n",
    "    org_sample = org_list[0]\n",
    "\n",
    "    proj_list = list_all_projects(client=client, organization_id=org_sample.id)\n",
    "    proj_sample = proj_list[0]\n",
    "\n",
    "    exp_list = list_all_experiments(client=client, project_id=proj_sample.id)\n",
    "    exp_sample = exp_list[-1]"
   ]
  },
  {
   "cell_type": "markdown",
   "id": "1dec343b",
   "metadata": {},
   "source": [
    "## Run a QuEnc experiment\n",
    "\n",
    "This example uses the QuEnc experiment type to perform an optimization. Here the objective is to solve the max cut problem."
   ]
  },
  {
   "cell_type": "code",
   "execution_count": null,
   "id": "426b5b90",
   "metadata": {
    "jupyter": {
     "outputs_hidden": false
    }
   },
   "outputs": [],
   "source": [
    "    print(f\"Running experiment within: Org {org_sample.id}, Proj {proj_sample.id} and Exp {exp_sample.id}`\")"
   ]
  },
  {
   "cell_type": "code",
   "execution_count": null,
   "id": "edb47df2",
   "metadata": {},
   "outputs": [],
   "source": [
    "    parameters = {\n",
    "        'parameters': {\n",
    "            'qubo': [0, 1, 0, 0, 0, 0, 0, 1, 1, 0, 0, 0, 0, 0, 1, 0, 0, 0, 0, 1, 0, 0, 0, 0, 0],  \n",
    "            'number_layers': 5,\n",
    "            'steps': 25,\n",
    "            'velocity': 0.05,\n",
    "            'optimizer': 'ADAM'\n",
    "        },\n",
    "        'inputs': {}\n",
    "    }\n",
    "    run = ExperimentRun.create(\n",
    "        client=client,\n",
    "        algorithm=AlgorithmProto.TETRA_QUENC, \n",
    "        experiment_id=exp_sample.id,\n",
    "        compute=HardwareProto.SMALL, \n",
    "        parameters=parameters\n",
    "    )\n",
    "    \n",
    "    print(run.data)"
   ]
  },
  {
   "cell_type": "markdown",
   "id": "e2879b42",
   "metadata": {},
   "source": [
    "## Poll the experiment run, and return results when finished"
   ]
  },
  {
   "cell_type": "code",
   "execution_count": null,
   "id": "4a27067b",
   "metadata": {},
   "outputs": [],
   "source": [
    "    result = run.poll()\n",
    "    print(result)"
   ]
  }
 ],
 "metadata": {
  "kernelspec": {
   "display_name": "Python 3 (ipykernel)",
   "language": "python",
   "name": "python3"
  },
  "language_info": {
   "codemirror_mode": {
    "name": "ipython",
    "version": 3
   },
   "file_extension": ".py",
   "mimetype": "text/x-python",
   "name": "python",
   "nbconvert_exporter": "python",
   "pygments_lexer": "ipython3",
   "version": "3.9.19"
  },
  "vscode": {
   "interpreter": {
    "hash": "2b948f73c602804da10ac5ef2ce43914090a4d8e5675991f378fa84d87ab2597"
   }
  }
 },
 "nbformat": 4,
 "nbformat_minor": 5
}
