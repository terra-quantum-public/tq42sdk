{
 "cells": [
  {
   "cell_type": "markdown",
   "id": "f9fcbf9f",
   "metadata": {},
   "source": [
    "![](../images/TQ42_Banner.png)\n",
    "\n",
    "\n",
    "# Welcome to TQ42!\n",
    "\n",
    "\n",
    "## Begin by creating a client and selecting org, proj and exp"
   ]
  },
  {
   "cell_type": "code",
   "execution_count": null,
   "id": "f11cd74e",
   "metadata": {},
   "outputs": [],
   "source": [
    "from tq42.client import TQ42Client\n",
    "from tq42.experiment_run import ExperimentRun, HardwareProto\n",
    "from tq42.algorithm import AlgorithmProto\n",
    "\n",
    "import json\n",
    "from collections import Counter\n",
    "\n",
    "from tq42_notebook_utils import Selector"
   ]
  },
  {
   "cell_type": "code",
   "execution_count": null,
   "id": "5ac59237-2b4e-4615-b0d2-729d94242cf0",
   "metadata": {},
   "outputs": [],
   "source": [
    "selector = Selector()"
   ]
  },
  {
   "cell_type": "code",
   "execution_count": null,
   "id": "272e9a20",
   "metadata": {},
   "outputs": [],
   "source": [
    "with TQ42Client() as client: \n",
    "    selector.select_organization(client)"
   ]
  },
  {
   "cell_type": "code",
   "execution_count": null,
   "id": "fca964e0-a44b-433a-be56-ee33cdd0a707",
   "metadata": {},
   "outputs": [],
   "source": [
    "with TQ42Client() as client: \n",
    "    selector.select_project(client)"
   ]
  },
  {
   "cell_type": "code",
   "execution_count": null,
   "id": "af5c6429-9978-4bd8-b6ce-72b092705665",
   "metadata": {},
   "outputs": [],
   "source": [
    "with TQ42Client() as client: \n",
    "    selector.select_experiment(client)"
   ]
  },
  {
   "cell_type": "markdown",
   "id": "1dec343b",
   "metadata": {},
   "source": [
    "## Run a QuEnc experiment\n",
    "\n",
    "This example uses the QuEnc experiment type to perform an optimization. Here the objective is to solve the max cut problem written as a QUBO. The outcome of the QuEnc experiment will be a circuit which can be sample to give an approximate solution to the QUBO.\n",
    "\n",
    "The full explanation of the algorithm can be found in [*NISQ-compatible approximate quantum algorithm for unconstrained and constrained discrete optimization*](https://quantum-journal.org/papers/q-2023-11-21-1186/)."
   ]
  },
  {
   "cell_type": "code",
   "execution_count": null,
   "id": "426b5b90",
   "metadata": {
    "collapsed": false,
    "jupyter": {
     "outputs_hidden": false
    }
   },
   "outputs": [],
   "source": [
    "print(f\"Running experiment within: Org {selector.organization.id}, Proj {selector.project.id} and Exp {selector.experiment.id}`\")"
   ]
  },
  {
   "cell_type": "code",
   "execution_count": null,
   "id": "edb47df2",
   "metadata": {},
   "outputs": [],
   "source": [
    "parameters = {\n",
    "    'parameters': {\n",
    "        'qubo': [0, 1, 0, 0, 0, 0, 0, 1, 1, 0, 0, 0, 0, 0, 1, 0, 0, 0, 0, 1, 0, 0, 0, 0, 0],  \n",
    "        'number_layers': 5,\n",
    "        'steps': 25,\n",
    "        'velocity': 0.05,\n",
    "        'optimizer': 'ADAM'\n",
    "    },\n",
    "    'inputs': {}\n",
    "}\n",
    "\n",
    "with TQ42Client() as client:\n",
    "    quenc_run = ExperimentRun.create(\n",
    "        client=client,\n",
    "        algorithm=AlgorithmProto.TETRA_QUENC, \n",
    "        experiment_id=selector.experiment.id,\n",
    "        compute=HardwareProto.SMALL, \n",
    "        parameters=parameters\n",
    "    )\n",
    "\n",
    "print(quenc_run.data)"
   ]
  },
  {
   "cell_type": "markdown",
   "id": "e2879b42",
   "metadata": {},
   "source": [
    "## Poll the experiment run, and return results when finished"
   ]
  },
  {
   "cell_type": "code",
   "execution_count": null,
   "id": "4a27067b",
   "metadata": {},
   "outputs": [],
   "source": [
    "quenc_result = quenc_run.poll()\n",
    "print(quenc_result)"
   ]
  },
  {
   "cell_type": "markdown",
   "id": "73d643bb-4a90-4dd0-ae32-84deb45baad6",
   "metadata": {},
   "source": [
    "## Sample from the resulting circuit using a simulator"
   ]
  },
  {
   "cell_type": "code",
   "execution_count": null,
   "id": "e6d2fe7b-3cb4-46b6-bc3d-6b9a0965a97c",
   "metadata": {},
   "outputs": [],
   "source": [
    "circuit_storage_id = quenc_result.data.result.tetra_qu_enc_outcome.outputs.circuit.storage_id"
   ]
  },
  {
   "cell_type": "code",
   "execution_count": null,
   "id": "ac03aaab-cb7d-4b6f-a6f7-18f2b9f398f4",
   "metadata": {},
   "outputs": [],
   "source": [
    "parameters = {\n",
    "    'parameters': {\n",
    "        'shots': 500,\n",
    "        'backend': 'CIRQ_SIMULATOR'\n",
    "    },\n",
    "    'inputs': {\n",
    "        'circuit': {'storage_id': circuit_storage_id}\n",
    "    }\n",
    "}\n",
    "\n",
    "with TQ42Client() as client:\n",
    "    run = ExperimentRun.create(\n",
    "        client=client,\n",
    "        algorithm=AlgorithmProto.CIRCUIT_RUN,\n",
    "        experiment_id=selector.experiment.id,\n",
    "        compute=HardwareProto.SMALL,\n",
    "        parameters=parameters\n",
    "    )"
   ]
  },
  {
   "cell_type": "code",
   "execution_count": null,
   "id": "b83cfea7-21ea-43e8-af12-a4cca5e3b536",
   "metadata": {},
   "outputs": [],
   "source": [
    "circuit_run_result = run.poll()\n",
    "print(circuit_run_result)"
   ]
  },
  {
   "cell_type": "markdown",
   "id": "ec602496-df7e-4f33-8929-7b2d9dd70f08",
   "metadata": {},
   "source": [
    "## Get the samples from the result and convert into an estimated probability distribution"
   ]
  },
  {
   "cell_type": "code",
   "execution_count": null,
   "id": "94443c55-9272-4143-827f-48c739b8fcdb",
   "metadata": {},
   "outputs": [],
   "source": [
    "circuit_run_samples = json.loads(circuit_run_result.data.result.circuit_run_outcome.result)\n",
    "circuit_run_samples"
   ]
  },
  {
   "cell_type": "markdown",
   "id": "734bea6e-0178-41e4-88ba-1ff24bc3522e",
   "metadata": {},
   "source": [
    "A single example will be a dictionary whose keys are qubit names and whose values are 1s and 0s. For example\n",
    "\n",
    "```\n",
    "{'qq(0)': 1, 'qq(1)': 0, 'qq(3)': 0, 'qq(2)': 1},\n",
    "```\n",
    "\n",
    "in which `qq(n)` is the $n$th qubit.\n",
    "\n",
    "These samples are binary digit representations of integers. Thus, each sample must be convered to an integer. In this example the represented integer is\n",
    "\n",
    "$$1 \\cdot 2 ^ 0 + 0 \\cdot 2 ^ 1 + 1 \\cdot 2 ^ 2  + 0 \\cdot 2 ^ 3 = 1 + 4 = 5$$\n",
    "\n",
    "The following function converts a single sample into its represented integer:\n"
   ]
  },
  {
   "cell_type": "code",
   "execution_count": null,
   "id": "0677f32e-5df0-4f68-83f7-b22b80926689",
   "metadata": {},
   "outputs": [],
   "source": [
    "def sample_to_integer(sample):\n",
    "    n = 0\n",
    "    for qq_key, bit in sample.items(): \n",
    "        if bit:\n",
    "            exponent = int(qq_key.replace(\"qq(\", \"\").replace(\")\", \"\"))\n",
    "            n += 1 << exponent\n",
    "    return n"
   ]
  },
  {
   "cell_type": "markdown",
   "id": "28ebe9ad-d9a8-40ac-b911-df389e9c120e",
   "metadata": {},
   "source": [
    "Each integer represents a possible measured state of the system. In this case, because there are four qubits in the system, there are $2^4 = 16$ possible states. We must count number of samples for each of these possible measured states and from the count estimate a probability distribution. "
   ]
  },
  {
   "cell_type": "code",
   "execution_count": null,
   "id": "5ac6c749-c27d-4dd6-a802-815812f31d11",
   "metadata": {},
   "outputs": [],
   "source": [
    "counter = Counter([sample_to_integer(sample) for sample in circuit_run_samples])"
   ]
  },
  {
   "cell_type": "code",
   "execution_count": null,
   "id": "6c6ebe13-957b-408c-be8f-1430c811427d",
   "metadata": {},
   "outputs": [],
   "source": [
    "state_size = 2 ** 4"
   ]
  },
  {
   "cell_type": "code",
   "execution_count": null,
   "id": "aaa30ff8-9d54-48f1-91e6-a728716bbecb",
   "metadata": {},
   "outputs": [],
   "source": [
    "distribution = [0.0] * state_size\n",
    "\n",
    "for n, count in counter.items():\n",
    "    distribution[n] = count / len(circuit_run_samples)\n",
    "\n",
    "distribution"
   ]
  },
  {
   "cell_type": "markdown",
   "id": "de72fcaa-64f8-47fd-9632-8fa5747a1468",
   "metadata": {},
   "source": [
    "Verify that this is actually a probablity distribution."
   ]
  },
  {
   "cell_type": "code",
   "execution_count": null,
   "id": "6a8472cf-3b05-4dfb-b41b-2afa6c013feb",
   "metadata": {},
   "outputs": [],
   "source": [
    "sum(distribution)"
   ]
  },
  {
   "cell_type": "markdown",
   "id": "c1b0c969-963a-4d9c-950f-5fdfd2ebb905",
   "metadata": {},
   "source": [
    "## Interpret distribution as solution to QUBO\n",
    "\n",
    "The first qubit is an ancilary qubit. If the ancilary qubit is 1 in a sample, then it means that sample is evidence that the choice represented by the remaining three qubits should be considered more likely. Because the ancilary qubit is qubit 0, those samples where the ancilary qubit is measured as 1 are the odd integers and those with the ancilary qubit measured 0 are the even integers. Hence, counting votes amounts to comparing the number of even and odd samples. This is how we interpret the circuit run results as a solution to the QUBO."
   ]
  },
  {
   "cell_type": "code",
   "execution_count": null,
   "id": "5b2718c9-b837-441a-8767-3bb194a1445f",
   "metadata": {},
   "outputs": [],
   "source": [
    "solution = [distribution[2*i] < distribution[2*i+1] for i in range(state_size // 2)]\n",
    "solution"
   ]
  },
  {
   "cell_type": "code",
   "execution_count": null,
   "id": "f9092456-b4d9-47a4-8852-1e8b3fc58782",
   "metadata": {},
   "outputs": [],
   "source": []
  }
 ],
 "metadata": {
  "kernelspec": {
   "display_name": "Python 3 (ipykernel)",
   "language": "python",
   "name": "python3"
  },
  "language_info": {
   "codemirror_mode": {
    "name": "ipython",
    "version": 3
   },
   "file_extension": ".py",
   "mimetype": "text/x-python",
   "name": "python",
   "nbconvert_exporter": "python",
   "pygments_lexer": "ipython3",
   "version": "3.10.13"
  },
  "vscode": {
   "interpreter": {
    "hash": "2b948f73c602804da10ac5ef2ce43914090a4d8e5675991f378fa84d87ab2597"
   }
  }
 },
 "nbformat": 4,
 "nbformat_minor": 5
}
