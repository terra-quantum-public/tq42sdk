{
 "cells": [
  {
   "cell_type": "markdown",
   "id": "33e05d5e",
   "metadata": {},
   "source": [
    "![](../images/TQ42_Banner.png)\n",
    "\n",
    "\n",
    "# Welcome to TQ42!\n",
    "\n",
    "\n",
    "## Begin by creating a client and selecting org, proj and exp"
   ]
  },
  {
   "cell_type": "code",
   "execution_count": 1,
   "id": "6b38f60c",
   "metadata": {},
   "outputs": [],
   "source": [
    "from tq42.client import TQ42Client\n",
    "from tq42.organization import list_all as list_all_organizations\n",
    "from tq42.project import list_all as list_all_projects\n",
    "from tq42.experiment import list_all as list_all_experiments\n",
    "from tq42.experiment_run import ExperimentRun\n",
    "from tq42.algorithm import AlgorithmProto\n",
    "from tq42.compute import HardwareProto"
   ]
  },
  {
   "cell_type": "code",
   "execution_count": 2,
   "id": "07d4252b",
   "metadata": {},
   "outputs": [],
   "source": [
    "with TQ42Client() as client: \n",
    "    org_list = list_all_organizations(client=client)\n",
    "    org_sample = org_list[0]\n",
    "\n",
    "    proj_list = list_all_projects(client=client, organization_id=org_sample.id)\n",
    "    proj_sample = proj_list[0]\n",
    "\n",
    "    exp_list = list_all_experiments(client=client, project_id=proj_sample.id)\n",
    "    exp_sample = exp_list[-1]"
   ]
  },
  {
   "cell_type": "markdown",
   "id": "920d02d1",
   "metadata": {},
   "source": [
    "## Run a QuEnc experiment\n",
    "\n",
    "This example uses the QuEnc experiment type to perform an optimization. Here the objective is to solve the max cut problem."
   ]
  },
  {
   "cell_type": "code",
   "execution_count": 3,
   "id": "57d01789",
   "metadata": {
    "jupyter": {
     "outputs_hidden": false
    }
   },
   "outputs": [
    {
     "name": "stdout",
     "output_type": "stream",
     "text": [
      "Running experiment within: Org 2b040bcb-1697-491f-83d8-9da045c93eaf, Proj 347826c3-5b62-4bd7-ad06-cfd11b9e4746 and Exp 3f4fcf32-bc79-4147-971b-ed56b2cc8cd5`\n"
     ]
    }
   ],
   "source": [
    "    print(f\"Running experiment within: Org {org_sample.id}, Proj {proj_sample.id} and Exp {exp_sample.id}`\")"
   ]
  },
  {
   "cell_type": "code",
   "execution_count": 6,
   "id": "0e737f16",
   "metadata": {},
   "outputs": [
    {
     "name": "stdout",
     "output_type": "stream",
     "text": [
      "id: \"da9fcdf0-347e-406b-8bd6-745114c51064\"\n",
      "experiment_id: \"e8ca73ae-d9a2-41a2-aeb8-7a734916fd72\"\n",
      "sequential_id: 12\n",
      "status: QUEUED\n",
      "algorithm: TETRA_QUENC\n",
      "hardware: SMALL\n",
      "metadata: \"{\\\"parameters\\\":{\\\"qubo\\\":[0.0,1.0,0.0,0.0,0.0,0.0,0.0,1.0,1.0,0.0,0.0,0.0,0.0,0.0,1.0,0.0,0.0,0.0,0.0,1.0,0.0,0.0,0.0,0.0,0.0],\\\"number_layers\\\":5,\\\"steps\\\":25,\\\"velocity\\\":0.05,\\\"optimizer\\\":\\\"ADAM\\\"},\\\"inputs\\\":{}}\"\n",
      "result {\n",
      "}\n",
      "created_by: \"8eab6d92-36a1-4caf-a0f4-7461c12c0984\"\n",
      "created_at {\n",
      "  seconds: 1716985451\n",
      "  nanos: 749916025\n",
      "}\n",
      "\n"
     ]
    }
   ],
   "source": [
    "    parameters = {\n",
    "        'parameters': {\n",
    "            'qubo': [0, 1, 0, 0, 0, 0, 0, 1, 1, 0, 0, 0, 0, 0, 1, 0, 0, 0, 0, 1, 0, 0, 0, 0, 0],  \n",
    "            'number_layers': 5,\n",
    "            'steps': 25,\n",
    "            'velocity': 0.05,\n",
    "            'optimizer': 'ADAM'\n",
    "        },\n",
    "        'inputs': {}\n",
    "    }\n",
    "    run = ExperimentRun.create(\n",
    "        client=client,\n",
    "        algorithm=AlgorithmProto.TETRA_QUENC, \n",
    "        experiment_id=\"e8ca73ae-d9a2-41a2-aeb8-7a734916fd72\",\n",
    "        compute=HardwareProto.SMALL, \n",
    "        parameters=parameters\n",
    "    )\n",
    "    \n",
    "    print(run.data)"
   ]
  },
  {
   "cell_type": "markdown",
   "id": "df1e0fcb",
   "metadata": {},
   "source": [
    "## Poll the experiment run, and return results when finished"
   ]
  },
  {
   "cell_type": "code",
   "execution_count": null,
   "id": "b33fffea",
   "metadata": {},
   "outputs": [],
   "source": [
    "    result = run.poll()\n",
    "    print(result)"
   ]
  }
 ],
 "metadata": {
  "kernelspec": {
   "display_name": "Python 3 (ipykernel)",
   "language": "python",
   "name": "python3"
  },
  "language_info": {
   "codemirror_mode": {
    "name": "ipython",
    "version": 3
   },
   "file_extension": ".py",
   "mimetype": "text/x-python",
   "name": "python",
   "nbconvert_exporter": "python",
   "pygments_lexer": "ipython3",
   "version": "3.9.19"
  },
  "vscode": {
   "interpreter": {
    "hash": "2b948f73c602804da10ac5ef2ce43914090a4d8e5675991f378fa84d87ab2597"
   }
  }
 },
 "nbformat": 4,
 "nbformat_minor": 5
}
